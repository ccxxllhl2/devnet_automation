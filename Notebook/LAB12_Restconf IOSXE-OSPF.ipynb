{
 "cells": [
  {
   "cell_type": "markdown",
   "metadata": {},
   "source": [
    "# RESTCONF基础"
   ]
  },
  {
   "cell_type": "code",
   "execution_count": 1,
   "metadata": {},
   "outputs": [],
   "source": [
    "import requests\n",
    "requests.packages.urllib3.disable_warnings()"
   ]
  },
  {
   "cell_type": "code",
   "execution_count": 2,
   "metadata": {},
   "outputs": [],
   "source": [
    "login_info = {\"host\":\"192.168.1.61\",\n",
    "              \"username\":\"restconf\",\n",
    "              \"password\":\"restconf\"}"
   ]
  },
  {
   "cell_type": "markdown",
   "metadata": {},
   "source": [
    "# 建立OSPF查看函数"
   ]
  },
  {
   "cell_type": "code",
   "execution_count": 3,
   "metadata": {
    "scrolled": true
   },
   "outputs": [
    {
     "name": "stdout",
     "output_type": "stream",
     "text": [
      "{\n",
      "  \"Cisco-IOS-XE-ospf:router-ospf\": {\n",
      "    \"ospf\": {\n",
      "      \"process-id\": [\n",
      "        {\n",
      "          \"id\": 30,\n",
      "          \"network\": [\n",
      "            {\n",
      "              \"ip\": \"1.1.1.0\",\n",
      "              \"wildcard\": \"0.0.0.255\",\n",
      "              \"area\": 0\n",
      "            }\n",
      "          ]\n",
      "        }\n",
      "      ]\n",
      "    }\n",
      "  }\n",
      "}\n",
      "\n"
     ]
    }
   ],
   "source": [
    "def check_ospf_config():\n",
    "    ospf_api = \"/restconf/data/Cisco-IOS-XE-native:native/router/router-ospf\"\n",
    "    ospf_uri = \"https://\" + login_info[\"host\"] + ospf_api\n",
    "    headers = {'Content-Type': 'application/yang-data+json','Accept': 'application/yang-data+json'}\n",
    "\n",
    "    ospf_check_result = requests.request(\"GET\", \n",
    "                                         url=ospf_uri, \n",
    "                                         auth=(login_info[\"username\"],login_info[\"password\"]), \n",
    "                                         headers=headers, \n",
    "                                         verify=False)\n",
    "    print(ospf_check_result.text)\n",
    "    \n",
    "check_ospf_config()"
   ]
  },
  {
   "cell_type": "markdown",
   "metadata": {},
   "source": [
    "# 删除OSPF配置"
   ]
  },
  {
   "cell_type": "code",
   "execution_count": 4,
   "metadata": {},
   "outputs": [
    {
     "name": "stdout",
     "output_type": "stream",
     "text": [
      "OSPF配置已清空\n"
     ]
    }
   ],
   "source": [
    "def del_ospf():\n",
    "    ospf_api = \"/restconf/data/Cisco-IOS-XE-native:native/router/router-ospf\"\n",
    "    ospf_uri = \"https://\" + login_info[\"host\"] + ospf_api\n",
    "    headers = {'Content-Type': 'application/yang-data+json','Accept': 'application/yang-data+json'}\n",
    "\n",
    "    ospf_del_result = requests.request(\"DELETE\",\n",
    "                                       url=ospf_uri, \n",
    "                                       auth=(login_info[\"username\"],login_info[\"password\"]),  \n",
    "                                       headers=headers, \n",
    "                                       verify=False)\n",
    "    if ospf_del_result.ok:\n",
    "        print(\"OSPF配置已清空\")\n",
    "    else:\n",
    "        print(\"删除失败，目前仍保留的OSPF配置如下：\")\n",
    "        check_ospf_config()\n",
    "    \n",
    "del_ospf()"
   ]
  },
  {
   "cell_type": "code",
   "execution_count": 5,
   "metadata": {},
   "outputs": [
    {
     "name": "stdout",
     "output_type": "stream",
     "text": [
      "\n"
     ]
    }
   ],
   "source": [
    "check_ospf_config()"
   ]
  },
  {
   "cell_type": "markdown",
   "metadata": {},
   "source": [
    "# 新增OSPF配置"
   ]
  },
  {
   "cell_type": "code",
   "execution_count": 6,
   "metadata": {},
   "outputs": [
    {
     "name": "stdout",
     "output_type": "stream",
     "text": [
      "配置完成，配置数据如下：\n",
      "{\n",
      "  \"Cisco-IOS-XE-ospf:router-ospf\": {\n",
      "    \"ospf\": {\n",
      "      \"process-id\": [\n",
      "        {\n",
      "          \"id\": 10\n",
      "        }\n",
      "      ]\n",
      "    }\n",
      "  }\n",
      "}\n",
      "\n"
     ]
    }
   ],
   "source": [
    "ospf_data = '''\n",
    "{\n",
    "    \"Cisco-IOS-XE-native:router\": {\n",
    "        \"Cisco-IOS-XE-ospf:router-ospf\": {\n",
    "            \"ospf\": {\n",
    "                \"process-id\": [\n",
    "                    {\n",
    "                        \"id\": 10\n",
    "                    }\n",
    "                ]\n",
    "            }\n",
    "        }\n",
    "    }\n",
    "}\n",
    "'''\n",
    "\n",
    "def modify_ospf(data):\n",
    "    ospf_api = \"/restconf/data/Cisco-IOS-XE-native:native/router\"\n",
    "    ospf_uri = \"https://\" + login_info[\"host\"] + ospf_api\n",
    "    headers = {'Content-Type': 'application/yang-data+json','Accept': 'application/yang-data+json'}\n",
    "\n",
    "    ospf_config_result = requests.request(\"PUT\",\n",
    "                                         url=ospf_uri, \n",
    "                                         auth=(login_info[\"username\"],login_info[\"password\"]), \n",
    "                                         data=data, \n",
    "                                         headers=headers, \n",
    "                                         verify=False)\n",
    "    \n",
    "    if ospf_config_result.ok:\n",
    "        print(\"配置完成，配置数据如下：\")\n",
    "        check_ospf_config()\n",
    "    else:\n",
    "        print(\"配置失败，原因如下：\")\n",
    "        print(ospf_config_result.reason)\n",
    "    \n",
    "modify_ospf(ospf_data)"
   ]
  },
  {
   "cell_type": "markdown",
   "metadata": {},
   "source": [
    "# 新增环回口 100"
   ]
  },
  {
   "cell_type": "code",
   "execution_count": 7,
   "metadata": {},
   "outputs": [
    {
     "name": "stdout",
     "output_type": "stream",
     "text": [
      "配置完成，配置数据如下：\n",
      "{\n",
      "  \"Cisco-IOS-XE-native:Loopback\": [\n",
      "    {\n",
      "      \"name\": 0,\n",
      "      \"ip\": {\n",
      "        \"address\": {\n",
      "          \"primary\": {\n",
      "            \"address\": \"1.1.1.1\",\n",
      "            \"mask\": \"255.255.255.0\"\n",
      "          }\n",
      "        }\n",
      "      }\n",
      "    },\n",
      "    {\n",
      "      \"name\": 1,\n",
      "      \"ip\": {\n",
      "        \"address\": {\n",
      "          \"primary\": {\n",
      "            \"address\": \"2.2.2.2\",\n",
      "            \"mask\": \"255.255.255.0\"\n",
      "          }\n",
      "        }\n",
      "      }\n",
      "    },\n",
      "    {\n",
      "      \"name\": 3,\n",
      "      \"ip\": {\n",
      "        \"address\": {\n",
      "          \"primary\": {\n",
      "            \"address\": \"3.3.3.3\",\n",
      "            \"mask\": \"255.255.255.0\"\n",
      "          }\n",
      "        }\n",
      "      }\n",
      "    },\n",
      "    {\n",
      "      \"name\": 4,\n",
      "      \"ip\": {\n",
      "        \"address\": {\n",
      "          \"primary\": {\n",
      "            \"address\": \"4.4.4.4\",\n",
      "            \"mask\": \"255.255.255.0\"\n",
      "          }\n",
      "        }\n",
      "      }\n",
      "    },\n",
      "    {\n",
      "      \"name\": 5,\n",
      "      \"ip\": {\n",
      "        \"address\": {\n",
      "          \"primary\": {\n",
      "            \"address\": \"5.5.5.5\",\n",
      "            \"mask\": \"255.255.255.0\"\n",
      "          }\n",
      "        }\n",
      "      }\n",
      "    },\n",
      "    {\n",
      "      \"name\": 100,\n",
      "      \"ip\": {\n",
      "        \"address\": {\n",
      "          \"primary\": {\n",
      "            \"address\": \"100.100.100.100\",\n",
      "            \"mask\": \"255.255.255.0\"\n",
      "          }\n",
      "        }\n",
      "      }\n",
      "    }\n",
      "  ]\n",
      "}\n",
      "\n"
     ]
    }
   ],
   "source": [
    "loop_data = '''\n",
    "{\n",
    "    \"Cisco-IOS-XE-native:Loopback\": [\n",
    "        {\n",
    "            \"name\": 100,\n",
    "            \"ip\": {\n",
    "                \"address\": {\n",
    "                    \"primary\": {\n",
    "                        \"address\": \"100.100.100.100\",\n",
    "                        \"mask\": \"255.255.255.0\"\n",
    "                    }\n",
    "                }\n",
    "            }\n",
    "        }\n",
    "    ]\n",
    "}\n",
    "'''\n",
    "def loop_add(data):\n",
    "    loop_api = \"/restconf/data/Cisco-IOS-XE-native:native/interface\"\n",
    "    loop_uri = \"https://\" + login_info[\"host\"] + loop_api\n",
    "    headers = {'Content-Type': 'application/yang-data+json','Accept': 'application/yang-data+json'}\n",
    "\n",
    "    loop_add_result = requests.request(\"POST\",\n",
    "                                       url=loop_uri, \n",
    "                                       auth=(login_info[\"username\"],login_info[\"password\"]), \n",
    "                                       data=data, \n",
    "                                       headers=headers, \n",
    "                                       verify=False)\n",
    "    \n",
    "    if loop_add_result.ok:\n",
    "        print(\"配置完成，配置数据如下：\")\n",
    "        check_loop()\n",
    "    else:\n",
    "        print(\"配置失败，原因如下：\")\n",
    "        print(loop_add_result.reason)\n",
    "        \n",
    "def check_loop():\n",
    "    loop_api = \"/restconf/data/Cisco-IOS-XE-native:native/interface/Loopback\"\n",
    "    loop_uri = \"https://\" + login_info[\"host\"] + loop_api\n",
    "    headers = {'Content-Type': 'application/yang-data+json','Accept': 'application/yang-data+json'}\n",
    "\n",
    "    loop_check_result = requests.request(\"GET\",\n",
    "                                         url=loop_uri, \n",
    "                                         auth=(login_info[\"username\"],login_info[\"password\"]), \n",
    "                                         headers=headers, \n",
    "                                         verify=False)\n",
    "    print(loop_check_result.text)\n",
    "    \n",
    "loop_add(loop_data)"
   ]
  },
  {
   "cell_type": "markdown",
   "metadata": {},
   "source": [
    "# 将Loopback100发布到OSPF进程"
   ]
  },
  {
   "cell_type": "code",
   "execution_count": 8,
   "metadata": {},
   "outputs": [
    {
     "name": "stdout",
     "output_type": "stream",
     "text": [
      "配置完成，配置数据如下：\n",
      "{\n",
      "  \"Cisco-IOS-XE-native:Loopback\": [\n",
      "    {\n",
      "      \"name\": 0,\n",
      "      \"ip\": {\n",
      "        \"address\": {\n",
      "          \"primary\": {\n",
      "            \"address\": \"1.1.1.1\",\n",
      "            \"mask\": \"255.255.255.0\"\n",
      "          }\n",
      "        }\n",
      "      }\n",
      "    },\n",
      "    {\n",
      "      \"name\": 1,\n",
      "      \"ip\": {\n",
      "        \"address\": {\n",
      "          \"primary\": {\n",
      "            \"address\": \"2.2.2.2\",\n",
      "            \"mask\": \"255.255.255.0\"\n",
      "          }\n",
      "        }\n",
      "      }\n",
      "    },\n",
      "    {\n",
      "      \"name\": 3,\n",
      "      \"ip\": {\n",
      "        \"address\": {\n",
      "          \"primary\": {\n",
      "            \"address\": \"3.3.3.3\",\n",
      "            \"mask\": \"255.255.255.0\"\n",
      "          }\n",
      "        }\n",
      "      }\n",
      "    },\n",
      "    {\n",
      "      \"name\": 4,\n",
      "      \"ip\": {\n",
      "        \"address\": {\n",
      "          \"primary\": {\n",
      "            \"address\": \"4.4.4.4\",\n",
      "            \"mask\": \"255.255.255.0\"\n",
      "          }\n",
      "        }\n",
      "      }\n",
      "    },\n",
      "    {\n",
      "      \"name\": 5,\n",
      "      \"ip\": {\n",
      "        \"address\": {\n",
      "          \"primary\": {\n",
      "            \"address\": \"5.5.5.5\",\n",
      "            \"mask\": \"255.255.255.0\"\n",
      "          }\n",
      "        }\n",
      "      }\n",
      "    },\n",
      "    {\n",
      "      \"name\": 100,\n",
      "      \"ip\": {\n",
      "        \"address\": {\n",
      "          \"primary\": {\n",
      "            \"address\": \"100.100.100.100\",\n",
      "            \"mask\": \"255.255.255.0\"\n",
      "          }\n",
      "        },\n",
      "        \"Cisco-IOS-XE-ospf:router-ospf\": {\n",
      "          \"ospf\": {\n",
      "            \"process-id\": [\n",
      "              {\n",
      "                \"id\": 10,\n",
      "                \"area\": [\n",
      "                  {\n",
      "                    \"area-id\": 0\n",
      "                  }\n",
      "                ]\n",
      "              }\n",
      "            ]\n",
      "          }\n",
      "        }\n",
      "      }\n",
      "    }\n",
      "  ]\n",
      "}\n",
      "\n"
     ]
    }
   ],
   "source": [
    "loop_ospf_data = '''\n",
    "{\n",
    "    \"Cisco-IOS-XE-native:Loopback\": [\n",
    "        {\n",
    "            \"name\": 100,\n",
    "            \"ip\": {\n",
    "                \"address\": {\n",
    "                    \"primary\": {\n",
    "                        \"address\": \"100.100.100.100\",\n",
    "                        \"mask\": \"255.255.255.0\"\n",
    "                    }\n",
    "                },\n",
    "                \"Cisco-IOS-XE-ospf:router-ospf\": {\n",
    "                    \"ospf\": {\n",
    "                        \"process-id\": [\n",
    "                            {\n",
    "                                \"id\": 10,\n",
    "                                \"area\": [\n",
    "                                    {\n",
    "                                        \"area-id\": 0\n",
    "                                    }\n",
    "                                ]\n",
    "                            }\n",
    "                        ]\n",
    "                    }\n",
    "                }\n",
    "            }\n",
    "        }\n",
    "    ]\n",
    "}\n",
    "'''\n",
    "def loop_ospf(data):\n",
    "    loop_api = \"/restconf/data/Cisco-IOS-XE-native:native/interface/Loopback=100\"\n",
    "    loop_uri = \"https://\" + login_info[\"host\"] + loop_api\n",
    "    headers = {'Content-Type': 'application/yang-data+json','Accept': 'application/yang-data+json'}\n",
    "\n",
    "    loop_ospf_result = requests.request(\"PUT\",\n",
    "                                        url=loop_uri, \n",
    "                                        auth=(login_info[\"username\"],login_info[\"password\"]), \n",
    "                                        data=data, \n",
    "                                        headers=headers, \n",
    "                                        verify=False)\n",
    "    \n",
    "    if loop_ospf_result.ok:\n",
    "        print(\"配置完成，配置数据如下：\")\n",
    "        check_loop()\n",
    "    else:\n",
    "        print(\"配置失败，原因如下：\")\n",
    "        print(loop_ospf_result.reason)\n",
    "    \n",
    "loop_ospf(loop_ospf_data)"
   ]
  },
  {
   "cell_type": "code",
   "execution_count": 9,
   "metadata": {},
   "outputs": [
    {
     "name": "stdout",
     "output_type": "stream",
     "text": [
      "{\n",
      "  \"Cisco-IOS-XE-ospf:router-ospf\": {\n",
      "    \"ospf\": {\n",
      "      \"process-id\": [\n",
      "        {\n",
      "          \"id\": 10\n",
      "        }\n",
      "      ]\n",
      "    }\n",
      "  }\n",
      "}\n",
      "\n"
     ]
    }
   ],
   "source": [
    "check_ospf_config()"
   ]
  },
  {
   "cell_type": "markdown",
   "metadata": {},
   "source": [
    "# 删除环回接口"
   ]
  },
  {
   "cell_type": "code",
   "execution_count": 10,
   "metadata": {
    "scrolled": true
   },
   "outputs": [
    {
     "name": "stdout",
     "output_type": "stream",
     "text": [
      "环回接口已删除，目前环回接口配置如下：\n",
      "{\n",
      "  \"Cisco-IOS-XE-native:Loopback\": [\n",
      "    {\n",
      "      \"name\": 0,\n",
      "      \"ip\": {\n",
      "        \"address\": {\n",
      "          \"primary\": {\n",
      "            \"address\": \"1.1.1.1\",\n",
      "            \"mask\": \"255.255.255.0\"\n",
      "          }\n",
      "        }\n",
      "      }\n",
      "    },\n",
      "    {\n",
      "      \"name\": 1,\n",
      "      \"ip\": {\n",
      "        \"address\": {\n",
      "          \"primary\": {\n",
      "            \"address\": \"2.2.2.2\",\n",
      "            \"mask\": \"255.255.255.0\"\n",
      "          }\n",
      "        }\n",
      "      }\n",
      "    },\n",
      "    {\n",
      "      \"name\": 3,\n",
      "      \"ip\": {\n",
      "        \"address\": {\n",
      "          \"primary\": {\n",
      "            \"address\": \"3.3.3.3\",\n",
      "            \"mask\": \"255.255.255.0\"\n",
      "          }\n",
      "        }\n",
      "      }\n",
      "    },\n",
      "    {\n",
      "      \"name\": 4,\n",
      "      \"ip\": {\n",
      "        \"address\": {\n",
      "          \"primary\": {\n",
      "            \"address\": \"4.4.4.4\",\n",
      "            \"mask\": \"255.255.255.0\"\n",
      "          }\n",
      "        }\n",
      "      }\n",
      "    },\n",
      "    {\n",
      "      \"name\": 5,\n",
      "      \"ip\": {\n",
      "        \"address\": {\n",
      "          \"primary\": {\n",
      "            \"address\": \"5.5.5.5\",\n",
      "            \"mask\": \"255.255.255.0\"\n",
      "          }\n",
      "        }\n",
      "      }\n",
      "    }\n",
      "  ]\n",
      "}\n",
      "\n"
     ]
    }
   ],
   "source": [
    "def loop_del():\n",
    "    loop_api = \"/restconf/data/Cisco-IOS-XE-native:native/interface/Loopback=100\"\n",
    "    loop_uri = \"https://\" + login_info[\"host\"] + loop_api\n",
    "    headers = {'Content-Type': 'application/yang-data+json','Accept': 'application/yang-data+json'}\n",
    "\n",
    "    loop_del_result = requests.request(\"DELETE\",\n",
    "                                        url=loop_uri, \n",
    "                                        auth=(login_info[\"username\"],login_info[\"password\"]), \n",
    "                                        headers=headers, \n",
    "                                        verify=False)\n",
    "    \n",
    "    if loop_del_result.ok:\n",
    "        print(\"环回接口已删除，目前环回接口配置如下：\")\n",
    "        check_loop()\n",
    "    else:\n",
    "        print(\"删除失败，目前环回接口配置如下：\")\n",
    "        check_loop()\n",
    "    \n",
    "loop_del()"
   ]
  },
  {
   "cell_type": "markdown",
   "metadata": {},
   "source": [
    "# 删除OSPF配置"
   ]
  },
  {
   "cell_type": "code",
   "execution_count": 11,
   "metadata": {},
   "outputs": [
    {
     "name": "stdout",
     "output_type": "stream",
     "text": [
      "OSPF配置已清空\n"
     ]
    }
   ],
   "source": [
    "del_ospf()"
   ]
  },
  {
   "cell_type": "code",
   "execution_count": 12,
   "metadata": {},
   "outputs": [
    {
     "name": "stdout",
     "output_type": "stream",
     "text": [
      "\n"
     ]
    }
   ],
   "source": [
    "check_ospf_config()"
   ]
  }
 ],
 "metadata": {
  "kernelspec": {
   "display_name": "Python 3",
   "language": "python",
   "name": "python3"
  },
  "language_info": {
   "codemirror_mode": {
    "name": "ipython",
    "version": 3
   },
   "file_extension": ".py",
   "mimetype": "text/x-python",
   "name": "python",
   "nbconvert_exporter": "python",
   "pygments_lexer": "ipython3",
   "version": "3.7.0"
  }
 },
 "nbformat": 4,
 "nbformat_minor": 2
}
