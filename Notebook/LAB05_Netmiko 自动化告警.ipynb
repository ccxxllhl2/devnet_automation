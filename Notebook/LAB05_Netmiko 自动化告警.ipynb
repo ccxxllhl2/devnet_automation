{
 "cells": [
  {
   "cell_type": "markdown",
   "metadata": {},
   "source": [
    "# Netmiko告警邮件实验\n",
    "* smtplib 用于发送邮件\n",
    "* email 用于创建邮件\n",
    "* netmiko 用于连接设备监控配置\n",
    "* time 用于设定监控间隔\n",
    "* 说明企业邮箱问题"
   ]
  },
  {
   "cell_type": "code",
   "execution_count": 1,
   "metadata": {},
   "outputs": [],
   "source": [
    "import time\n",
    "import smtplib\n",
    "from email.header import Header\n",
    "from email.mime.text import MIMEText\n",
    "from email.mime.multipart import MIMEMultipart\n",
    "from netmiko import ConnectHandler"
   ]
  },
  {
   "cell_type": "markdown",
   "metadata": {},
   "source": [
    "## 创建邮件与smtp对象"
   ]
  },
  {
   "cell_type": "code",
   "execution_count": 2,
   "metadata": {},
   "outputs": [],
   "source": [
    "class MAIL_SENDER():\n",
    "    def __init__(self, usermail, password, obj_address, smtpserver, smtpport=25):\n",
    "        self.usermail = usermail\n",
    "        self.password = password\n",
    "        self.obj_address = obj_address\n",
    "        self.smtpserver = smtpserver\n",
    "        self.smtpport = smtpport\n",
    "        \n",
    "    def create_mail(self, subject, text):\n",
    "        msg = MIMEMultipart('mixed')\n",
    "        msg['From'] = self.usermail\n",
    "        msg['To'] = self.obj_address\n",
    "        msg['Subject'] = Header(subject, 'utf-8')\n",
    "        text_sub = MIMEText(text, 'plain', 'utf-8')\n",
    "        msg.attach(text_sub)\n",
    "        return msg.as_string()\n",
    "        \n",
    "    def send(self, msg):\n",
    "        try:\n",
    "            sender = smtplib.SMTP(self.smtpserver, self.smtpport)\n",
    "            sender.login(self.usermail, self.password)\n",
    "            sender.sendmail(self.usermail, self.obj_address, msg)\n",
    "            print(\"检测到故障，已创建故障邮件，发送成功！\")\n",
    "            sender.quit()\n",
    "            \n",
    "        except Exception as e:\n",
    "            print(\"发送失败，错误如下：\")\n",
    "            print(e)"
   ]
  },
  {
   "cell_type": "markdown",
   "metadata": {},
   "source": [
    "## 设置设备登录信息"
   ]
  },
  {
   "cell_type": "code",
   "execution_count": 3,
   "metadata": {},
   "outputs": [],
   "source": [
    "device_info = {\n",
    "    \"device_type\": \"cisco_ios\",\n",
    "    \"ip\" : [\"192.168.1.60\",\"192.168.1.61\", \"192.168.1.62\"], \n",
    "    \"port\" : \"22\", \n",
    "    \"username\" : \"ciscouser\",\n",
    "    \"password\" : \"cisco@123\",\n",
    "    \"secret\" : \"cisco123\",\n",
    "    \"verbose\": True\n",
    "}"
   ]
  },
  {
   "cell_type": "markdown",
   "metadata": {},
   "source": [
    "## 完成对接口状态的监控\n",
    "* 循环监控接口状态\n",
    "* 当接口出现DOWN的状态时发送邮件告警"
   ]
  },
  {
   "cell_type": "code",
   "execution_count": null,
   "metadata": {},
   "outputs": [
    {
     "name": "stdout",
     "output_type": "stream",
     "text": [
      "SSH connection established to 192.168.1.60:22\n",
      "Interactive SSH session established\n",
      "SSH connection established to 192.168.1.61:22\n",
      "Interactive SSH session established\n",
      "SSH connection established to 192.168.1.62:22\n",
      "Interactive SSH session established\n",
      "检测到故障，已创建故障邮件，发送成功！\n"
     ]
    }
   ],
   "source": [
    "def check_IF_state(device_info):\n",
    "    reporter = MAIL_SENDER(\"ccxxll23@tom.com\", \"sdfsdf324\", \"154354595@qq.com\", \"smtp.tom.com\")\n",
    "    # 连接所有设备\n",
    "    server_pool = []\n",
    "    for ip in device_info[\"ip\"]:\n",
    "        device = device_info.copy()\n",
    "        device[\"ip\"] = ip\n",
    "        server_pool.append(ConnectHandler(**device))\n",
    "        \n",
    "    # 无限循环运维\n",
    "    while True:\n",
    "        results = []\n",
    "        for server in server_pool:\n",
    "            info = server.send_command(\"show ip interface brief\")\n",
    "            results.append(info)\n",
    "        report_err(device_info, reporter, results)\n",
    "        time.sleep(30)\n",
    "    #server.disconnect()\n",
    "\n",
    "def report_err(device_info, reporter, results):\n",
    "    for index in range(len(results)):\n",
    "        this_ip = device_info[\"ip\"][index]\n",
    "        device = results[index].split(\"\\n\")[1:]# 去除第一行无用信息\n",
    "        for interface in device:\n",
    "            if \"down\" in interface:\n",
    "                if_name = interface.split()[0]\n",
    "                msg = reporter.create_mail(\"告警邮件\", \"设备 {} 的接口 {} 出现故障，请尽快修复！\".format(this_ip, if_name))\n",
    "                reporter.send(msg)\n",
    "\n",
    "check_IF_state(device_info)"
   ]
  },
  {
   "cell_type": "code",
   "execution_count": null,
   "metadata": {},
   "outputs": [],
   "source": []
  }
 ],
 "metadata": {
  "kernelspec": {
   "display_name": "Python 3",
   "language": "python",
   "name": "python3"
  },
  "language_info": {
   "codemirror_mode": {
    "name": "ipython",
    "version": 3
   },
   "file_extension": ".py",
   "mimetype": "text/x-python",
   "name": "python",
   "nbconvert_exporter": "python",
   "pygments_lexer": "ipython3",
   "version": "3.7.0"
  }
 },
 "nbformat": 4,
 "nbformat_minor": 2
}
