{
 "cells": [
  {
   "cell_type": "markdown",
   "metadata": {},
   "source": [
    "# JSON 实验\n",
    "\n",
    "* JSON转Python"
   ]
  },
  {
   "cell_type": "code",
   "execution_count": 10,
   "metadata": {},
   "outputs": [],
   "source": [
    "import json\n",
    "\n",
    "json_doc_path = \"data/doc.json\"\n",
    "my_json_path = \"data/my_id.txt\"\n",
    "\n",
    "def read_json(path):\n",
    "    id_list = []\n",
    "    with open(path, encoding='utf-8') as f:\n",
    "        json_data = f.read()\n",
    "    py_data = json.loads(json_data)\n",
    "    py_data = py_data['dataset']\n",
    "    for data in py_data:\n",
    "        if 'identifier' in data.keys():\n",
    "            one_id = data['identifier'] + '\\n'\n",
    "            id_list.append(one_id)\n",
    "    result = ''.join(id_list)\n",
    "    return result\n",
    "\n",
    "def write_doc(path, doc):\n",
    "    with open(path,'w') as f:\n",
    "        f.write(doc)\n",
    "            \n",
    "IDs = read_json(json_doc_path)\n",
    "write_doc(my_json_path, IDs)"
   ]
  },
  {
   "cell_type": "markdown",
   "metadata": {},
   "source": [
    "* Python转JSON"
   ]
  },
  {
   "cell_type": "code",
   "execution_count": 11,
   "metadata": {},
   "outputs": [],
   "source": [
    "import json\n",
    "\n",
    "json_path = \"data/my_config.json\"\n",
    "config_data = {\"Routers\" : [{\"hostname\":\"R1\", \"IP\":\"1.1.1.1\", \"Interface\":\"Eth1\"},\n",
    "                            {\"hostname\":\"R2\", \"IP\":\"1.1.1.2\", \"Interface\":\"Eth2\"},\n",
    "                            {\"hostname\":\"R3\", \"IP\":\"2.1.1.1\", \"Interface\":\"Eth3\"},\n",
    "                            {\"hostname\":\"R4\", \"IP\":\"2.1.1.2\", \"Interface\":\"Eth4\"}]}\n",
    "\n",
    "json_data = json.dumps(config_data, indent=4)\n",
    "\n",
    "def write_doc(path, doc):\n",
    "    with open(path,'w') as f:\n",
    "        f.write(doc)\n",
    "        \n",
    "write_doc(json_path, json_data)"
   ]
  },
  {
   "cell_type": "code",
   "execution_count": null,
   "metadata": {},
   "outputs": [],
   "source": []
  }
 ],
 "metadata": {
  "kernelspec": {
   "display_name": "Python 3",
   "language": "python",
   "name": "python3"
  },
  "language_info": {
   "codemirror_mode": {
    "name": "ipython",
    "version": 3
   },
   "file_extension": ".py",
   "mimetype": "text/x-python",
   "name": "python",
   "nbconvert_exporter": "python",
   "pygments_lexer": "ipython3",
   "version": "3.7.0"
  }
 },
 "nbformat": 4,
 "nbformat_minor": 2
}
