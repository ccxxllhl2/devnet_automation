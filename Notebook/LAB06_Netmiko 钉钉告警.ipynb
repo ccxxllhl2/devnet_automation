{
 "cells": [
  {
   "cell_type": "markdown",
   "metadata": {},
   "source": [
    "# 钉钉告警与自动修复"
   ]
  },
  {
   "cell_type": "code",
   "execution_count": 1,
   "metadata": {},
   "outputs": [],
   "source": [
    "import json\n",
    "import requests\n",
    "from netmiko import ConnectHandler"
   ]
  },
  {
   "cell_type": "code",
   "execution_count": 3,
   "metadata": {},
   "outputs": [],
   "source": [
    "device_info = {\n",
    "    \"device_type\": \"cisco_ios\",\n",
    "    \"ip\": \"192.168.1.60\",\n",
    "    \"port\": 22,\n",
    "    \"username\": \"ciscouser\",\n",
    "    \"password\": \"cisco@123\",\n",
    "    \"secret\" : \"cisco123\",\n",
    "    \"verbose\": True\n",
    "}"
   ]
  },
  {
   "cell_type": "markdown",
   "metadata": {},
   "source": [
    "# 定义钉钉机器人的Webhook函数\n",
    "* [钉钉机器人文档](https://developers.dingtalk.com/document/robots/custom-robot-access?spm=ding_open_doc.document.0.0.4de57b4bZRuoE6#topic-2026027)"
   ]
  },
  {
   "cell_type": "code",
   "execution_count": 4,
   "metadata": {},
   "outputs": [],
   "source": [
    "def dingrobot(webhook, msg):\n",
    "    headers = {\"Content-Type\":\"application/json\"}\n",
    "    data = {\"msgtype\": \"markdown\",\n",
    "            \"markdown\": {\"title\":\"DevNet告警\", \"text\": \"【告警】\\n\" + msg}\n",
    "           }\n",
    "    response = requests.post(webhook,\n",
    "                             data=json.dumps(data),\n",
    "                             headers=headers)\n",
    "    if response.ok:\n",
    "        print(\"告警成功\")\n",
    "    else:\n",
    "        print(response.text)\n",
    "        \n",
    "def auto_fix(cmd, webhook):\n",
    "    server = ConnectHandler(**device_info)\n",
    "    server.enable()\n",
    "    while True:\n",
    "        if_data = server.send_command(cmd)\n",
    "        for one_if in if_data.split(\"\\n\"):\n",
    "            if \"down\" in one_if:\n",
    "                if_name = one_if.split()[0]\n",
    "                warning_msg = \"接口 {} DOWN了！\".format(if_name)\n",
    "                dingrobot(webhook, warning_msg)\n",
    "                # 尝试自动修复\n",
    "                _fix_cmd = [\"interface {}\".format(if_name), \"no shut\"]\n",
    "                server.send_config_set(_fix_cmd)\n",
    "                warning_msg = \"接口 {} 修复了！\".format(if_name)\n",
    "                dingrobot(webhook, warning_msg)"
   ]
  },
  {
   "cell_type": "markdown",
   "metadata": {},
   "source": [
    "# 测试效果"
   ]
  },
  {
   "cell_type": "code",
   "execution_count": 5,
   "metadata": {},
   "outputs": [],
   "source": [
    "monitor_cmd = \"show ip int brie\"\n",
    "webhook = \"https://oapi.dingtalk.com/robot/send?access_token=a54e2f2ee022e9916cb2982054e4b9b726f1464cda321eb1e3fa63a881bc90ac\""
   ]
  },
  {
   "cell_type": "code",
   "execution_count": null,
   "metadata": {},
   "outputs": [
    {
     "name": "stdout",
     "output_type": "stream",
     "text": [
      "SSH connection established to 192.168.1.60:22\n",
      "Interactive SSH session established\n",
      "告警成功\n",
      "告警成功\n",
      "告警成功\n",
      "告警成功\n",
      "告警成功\n",
      "告警成功\n",
      "告警成功\n",
      "告警成功\n",
      "告警成功\n",
      "告警成功\n"
     ]
    }
   ],
   "source": [
    "auto_fix(monitor_cmd, webhook)"
   ]
  },
  {
   "cell_type": "code",
   "execution_count": null,
   "metadata": {},
   "outputs": [],
   "source": []
  }
 ],
 "metadata": {
  "kernelspec": {
   "display_name": "Python 3",
   "language": "python",
   "name": "python3"
  },
  "language_info": {
   "codemirror_mode": {
    "name": "ipython",
    "version": 3
   },
   "file_extension": ".py",
   "mimetype": "text/x-python",
   "name": "python",
   "nbconvert_exporter": "python",
   "pygments_lexer": "ipython3",
   "version": "3.7.0"
  }
 },
 "nbformat": 4,
 "nbformat_minor": 2
}
