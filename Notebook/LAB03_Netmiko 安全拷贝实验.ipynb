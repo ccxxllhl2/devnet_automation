{
 "cells": [
  {
   "cell_type": "markdown",
   "metadata": {},
   "source": [
    "# Netmiko安全拷贝"
   ]
  },
  {
   "cell_type": "code",
   "execution_count": 2,
   "metadata": {},
   "outputs": [],
   "source": [
    "from netmiko import SCPConn\n",
    "from netmiko import ConnectHandler \n",
    "\n",
    "connect_info_dict= {\n",
    "    \"device_type\": \"cisco_ios\",\n",
    "    \"host\": \"192.168.1.50\",\n",
    "    \"username\": \"ciscouser\",\n",
    "    \"secret\": \"cisco123\",\n",
    "    \"password\": \"cisco@123\",\n",
    "}"
   ]
  },
  {
   "cell_type": "markdown",
   "metadata": {},
   "source": [
    "## 通过SCP类管理设备文件"
   ]
  },
  {
   "cell_type": "code",
   "execution_count": 6,
   "metadata": {},
   "outputs": [
    {
     "data": {
      "text/plain": [
       "'configure terminal\\nEnter configuration commands, one per line.  End with CNTL/Z.\\nR1(config)#ip scp server enable\\nR1(config)#end\\nR1#'"
      ]
     },
     "execution_count": 6,
     "metadata": {},
     "output_type": "execute_result"
    }
   ],
   "source": [
    "cli = ConnectHandler(**connect_info_dict)\n",
    "cli.send_config_set(\"ip scp server enable\")"
   ]
  },
  {
   "cell_type": "code",
   "execution_count": 10,
   "metadata": {},
   "outputs": [],
   "source": [
    "file_pre = \"slot0:\""
   ]
  },
  {
   "cell_type": "markdown",
   "metadata": {},
   "source": [
    "* 从本地到设备"
   ]
  },
  {
   "cell_type": "code",
   "execution_count": 19,
   "metadata": {},
   "outputs": [
    {
     "name": "stdout",
     "output_type": "stream",
     "text": [
      "\n",
      "Directory of slot0:/\n",
      "\n",
      "    4  -rw-           6                    <no date>  cisco_hello.txt\n",
      "\n",
      "134217724 bytes total (134217436 bytes free)\n"
     ]
    }
   ],
   "source": [
    "file_trans = SCPConn(cli)\n",
    "file_trans.scp_put_file(\"hello.txt\", file_pre+\"cisco_hello.txt\")\n",
    "print(cli.send_command(f\"dir {file_pre}\"))"
   ]
  },
  {
   "cell_type": "markdown",
   "metadata": {},
   "source": [
    "* 从设备到本地"
   ]
  },
  {
   "cell_type": "code",
   "execution_count": 12,
   "metadata": {},
   "outputs": [],
   "source": [
    "file_trans = SCPConn(cli)\n",
    "file_trans.scp_get_file(file_pre+\"cisco_hello.txt\", \"pc_hello.txt\")"
   ]
  },
  {
   "cell_type": "markdown",
   "metadata": {},
   "source": [
    "* 删除设备文件"
   ]
  },
  {
   "cell_type": "code",
   "execution_count": 23,
   "metadata": {},
   "outputs": [],
   "source": [
    "command = f\"delete {file_pre}cisco_hello.txt\"\n",
    "\n",
    "output = cli.send_command_timing(\n",
    "    command_string=command,\n",
    "    strip_prompt=False,\n",
    "    strip_command=False\n",
    ")\n",
    "if \"Delete filename\" in output:\n",
    "    output += cli.send_command_timing(\n",
    "        command_string=\"\\n\",\n",
    "        strip_prompt=False,\n",
    "        strip_command=False\n",
    "    )\n",
    "if \"confirm\" in output:\n",
    "    output += cli.send_command_timing(\n",
    "        command_string=\"y\",\n",
    "        strip_prompt=False,\n",
    "        strip_command=False\n",
    "    )"
   ]
  },
  {
   "cell_type": "code",
   "execution_count": 24,
   "metadata": {},
   "outputs": [
    {
     "name": "stdout",
     "output_type": "stream",
     "text": [
      "delete slot0:cisco_hello.txt\n",
      "Delete filename [cisco_hello.txt]? \n",
      "Delete slot0:cisco_hello.txt? [confirm]y\n",
      "R1#\n",
      "R1#\n"
     ]
    }
   ],
   "source": [
    "print(output)"
   ]
  },
  {
   "cell_type": "code",
   "execution_count": 18,
   "metadata": {},
   "outputs": [
    {
     "name": "stdout",
     "output_type": "stream",
     "text": [
      "\n",
      "Directory of slot0:/\n",
      "\n",
      "No files in directory\n",
      "\n",
      "134217724 bytes total (134217508 bytes free)\n"
     ]
    }
   ],
   "source": [
    "print(cli.send_command(f\"dir {file_pre}\"))"
   ]
  }
 ],
 "metadata": {
  "kernelspec": {
   "display_name": "Python 3",
   "language": "python",
   "name": "python3"
  },
  "language_info": {
   "codemirror_mode": {
    "name": "ipython",
    "version": 3
   },
   "file_extension": ".py",
   "mimetype": "text/x-python",
   "name": "python",
   "nbconvert_exporter": "python",
   "pygments_lexer": "ipython3",
   "version": "3.7.0"
  }
 },
 "nbformat": 4,
 "nbformat_minor": 2
}
