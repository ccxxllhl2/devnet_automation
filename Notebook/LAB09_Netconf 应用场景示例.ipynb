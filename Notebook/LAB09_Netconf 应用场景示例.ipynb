{
 "cells": [
  {
   "cell_type": "markdown",
   "metadata": {},
   "source": [
    "# NETCONF实例\n",
    "* 实例：BGP配置快速解析"
   ]
  },
  {
   "cell_type": "code",
   "execution_count": 1,
   "metadata": {},
   "outputs": [],
   "source": [
    "import xmltodict\n",
    "from ncclient import manager\n",
    "from helper import bgpfunc as bf\n",
    "\n",
    "iosXE_netconf_info = {\"host\":\"192.168.1.61\",\n",
    "                      \"port\": 830,\n",
    "                      \"username\":\"netconf\",\n",
    "                      \"password\":\"netconf123\",\n",
    "                      \"hostkey_verify\":False}"
   ]
  },
  {
   "cell_type": "markdown",
   "metadata": {},
   "source": [
    "## 创建初始化NETCONF连接"
   ]
  },
  {
   "cell_type": "code",
   "execution_count": 2,
   "metadata": {},
   "outputs": [],
   "source": [
    "def create_netconf_connection(iosXE_netconf_info):\n",
    "    session = manager.connect(**iosXE_netconf_info)\n",
    "    return session"
   ]
  },
  {
   "cell_type": "markdown",
   "metadata": {},
   "source": [
    "## BGP 配置快速解析\n",
    "* 面对复杂BGP网络时快速了解网络配置情况\n",
    "* 存在vrf的BGP配置\n",
    "* 不存在vrf的BGP配置"
   ]
  },
  {
   "cell_type": "code",
   "execution_count": 3,
   "metadata": {},
   "outputs": [],
   "source": [
    "def with_vrf(config):\n",
    "    if config.get('address-family'):\n",
    "        # Find vrfs, if any\n",
    "        vrf_config = config['address-family']['with-vrf']['ipv4']['vrf']\n",
    "        if type(vrf_config) != list:\n",
    "            vrf_config = [vrf_config]\n",
    "        for one_vrf_config in vrf_config:\n",
    "            af = one_vrf_config['ipv4-unicast']\n",
    "            vrf_name = one_vrf_config['name']\n",
    "\n",
    "            # Begin configuration for BGP perameters\n",
    "            if af.get('neighbor'):\n",
    "                print(f\"\\nAddress Family: {vrf_name} -------\")\n",
    "                print(f\"\\n   AF Neighbor Information:\\n\")\n",
    "                bf.address_family(af.get('neighbor'))\n",
    "            if af.get(\"redistribute\"):\n",
    "                print(f\"\\n   AF Redistribution:\\n\")\n",
    "                [bf.redistribution(k, v) for k, v in af.get(\"redistribute\").items()]\n",
    "            if af.get('network'):\n",
    "                print(f\"\\n   AF Network Statements:\\n\")\n",
    "                bf.networks(af.get('network', {}))\n",
    "            if af.get('prefix-list'):\n",
    "                bf.networks(af.get('prefix-list', {}))"
   ]
  },
  {
   "cell_type": "markdown",
   "metadata": {},
   "source": [
    "#### Legacy routing config, non address-family"
   ]
  },
  {
   "cell_type": "code",
   "execution_count": 4,
   "metadata": {},
   "outputs": [],
   "source": [
    "def legacy(config):\n",
    "    if config.get('neighbor'):\n",
    "        print(f\"   Neighbors -------------\\n\")\n",
    "        list(map(bf.neighbor, config.get('neighbor', {})))\n",
    "    if config.get('network'):\n",
    "        print(f\"\\n   Network Statements-----------------------\\n\")\n",
    "        list(map(bf.networks, config.get('network', {})))\n",
    "    if config.get(\"redistribute\"):\n",
    "        print(f\"\\n   Redistribution -----------------------\\n\")\n",
    "        [bf.redistribution(k, v) for k, v in config.get(\"redistribute\", {}).items()]\n",
    "    if config.get('prefix-list'):\n",
    "        list(map(bf.networks, config.get('prefix-list', {})))"
   ]
  },
  {
   "cell_type": "markdown",
   "metadata": {},
   "source": [
    "#### Parse and prints router BGP configuration"
   ]
  },
  {
   "cell_type": "code",
   "execution_count": 5,
   "metadata": {},
   "outputs": [],
   "source": [
    "def search_config(config):\n",
    "    # Get legacy routing configuration\n",
    "    print(f\"\\n--------------------- Local AS: {config.get('id')} ---------------------\\n\")\n",
    "\n",
    "    if config.get('bgp', {}).get('log-neighbor-changes', {}):\n",
    "        print(f\"Logging Neighbor: {config.get('bgp').get('log-neighbor-changes')}\\n\")\n",
    "\n",
    "    legacy(config)\n",
    "    with_vrf(config)"
   ]
  },
  {
   "cell_type": "markdown",
   "metadata": {},
   "source": [
    "### 开始获取数据"
   ]
  },
  {
   "cell_type": "code",
   "execution_count": 6,
   "metadata": {},
   "outputs": [],
   "source": [
    "get_policies = \"\"\"\n",
    "<filter xmlns=\"urn:ietf:params:xml:ns:netconf:base:1.0\">\n",
    "    <native xmlns=\"http://cisco.com/ns/yang/Cisco-IOS-XE-native\">\n",
    "        <router/>\n",
    "    </native>\n",
    "</filter>\"\"\"\n",
    "\n",
    "session = create_netconf_connection(iosXE_netconf_info)\n",
    "config_data = session.get(get_policies)"
   ]
  },
  {
   "cell_type": "code",
   "execution_count": 7,
   "metadata": {},
   "outputs": [],
   "source": [
    "router_data = xmltodict.parse(config_data.xml)[\"rpc-reply\"][\"data\"]"
   ]
  },
  {
   "cell_type": "markdown",
   "metadata": {},
   "source": [
    "* [关于OrderedDict](http://www.mamicode.com/info-detail-2582729.html)"
   ]
  },
  {
   "cell_type": "markdown",
   "metadata": {},
   "source": [
    "### 筛选BGP相关配置"
   ]
  },
  {
   "cell_type": "code",
   "execution_count": 8,
   "metadata": {},
   "outputs": [],
   "source": [
    "bgp_details = router_data[\"native\"].get(\"router\", {}).get(\"bgp\", {})"
   ]
  },
  {
   "cell_type": "markdown",
   "metadata": {},
   "source": [
    "### 对BGP配置进行搜索解析"
   ]
  },
  {
   "cell_type": "code",
   "execution_count": 9,
   "metadata": {
    "scrolled": false
   },
   "outputs": [
    {
     "name": "stdout",
     "output_type": "stream",
     "text": [
      "\n",
      "--------------------- Local AS: 45000 ---------------------\n",
      "\n",
      "Logging Neighbor: true\n",
      "\n",
      "   Neighbors -------------\n",
      "\n",
      "         Remote AS: 40000\n",
      "          Neighbor: 1.1.1.100\n",
      "     Next-Hop-Self: No\n",
      "         Route-Map: None           Direction: None\n",
      "       Prefix-list: None           Direction: None\n",
      "   Route-Reflector: No\n",
      "     Soft-Reconfig: No\n",
      "\n",
      "\n",
      "         Remote AS: 50000\n",
      "          Neighbor: 2.2.2.100\n",
      "     Next-Hop-Self: No\n",
      "         Route-Map: None           Direction: None\n",
      "       Prefix-list: None           Direction: None\n",
      "   Route-Reflector: No\n",
      "     Soft-Reconfig: No\n",
      "\n",
      "\n",
      "\n",
      "Address Family: vpn1 -------\n",
      "\n",
      "   AF Neighbor Information:\n",
      "\n",
      "          Neighbor: 5.5.5.100 \n",
      "     Next-Hop-Self: No\n",
      "   Route-Reflector: No\n",
      "         Route-Map: None           Direction: None\n",
      "       Prefix-list: None           Direction: None\n",
      "          Activate: Yes\n",
      "\n",
      "\n",
      "   AF Network Statements:\n",
      "\n",
      "            Network:       None  Mask: None\n",
      "\n",
      "Address Family: vpn2 -------\n",
      "\n",
      "   AF Neighbor Information:\n",
      "\n",
      "          Neighbor: 5.5.5.101 \n",
      "     Next-Hop-Self: No\n",
      "   Route-Reflector: No\n",
      "         Route-Map: None           Direction: None\n",
      "       Prefix-list: None           Direction: None\n",
      "          Activate: Yes\n",
      "\n",
      "\n",
      "   AF Network Statements:\n",
      "\n",
      "            Network:       None  Mask: None\n"
     ]
    }
   ],
   "source": [
    "search_config(bgp_details)"
   ]
  }
 ],
 "metadata": {
  "kernelspec": {
   "display_name": "Python 3",
   "language": "python",
   "name": "python3"
  },
  "language_info": {
   "codemirror_mode": {
    "name": "ipython",
    "version": 3
   },
   "file_extension": ".py",
   "mimetype": "text/x-python",
   "name": "python",
   "nbconvert_exporter": "python",
   "pygments_lexer": "ipython3",
   "version": "3.7.0"
  }
 },
 "nbformat": 4,
 "nbformat_minor": 2
}
