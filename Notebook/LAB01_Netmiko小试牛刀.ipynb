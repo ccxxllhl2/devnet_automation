{
 "cells": [
  {
   "cell_type": "code",
   "execution_count": 6,
   "id": "5e79a47b",
   "metadata": {},
   "outputs": [],
   "source": [
    "import os\n",
    "from netmiko import ConnectHandler"
   ]
  },
  {
   "cell_type": "code",
   "execution_count": 3,
   "id": "e9b0c48b",
   "metadata": {},
   "outputs": [],
   "source": [
    "device_info = {\n",
    "    \"device_type\": \"cisco_ios\",\n",
    "    \"ip\" : \"192.168.1.51\", \n",
    "    \"port\" : \"22\", \n",
    "    \"username\" : \"ciscouser\",\n",
    "    \"password\" : \"cisco@123\",\n",
    "    \"verbose\" : True\n",
    "}"
   ]
  },
  {
   "cell_type": "code",
   "execution_count": 4,
   "id": "629ce2a3",
   "metadata": {},
   "outputs": [],
   "source": [
    "commands = [\"show ip route\", \"show running-config\", \"show ip interface brief\"]"
   ]
  },
  {
   "cell_type": "code",
   "execution_count": 5,
   "id": "b0a27374",
   "metadata": {},
   "outputs": [],
   "source": [
    "def show_cmd(server, commands):\n",
    "    results = []   \n",
    "    for cmd in commands:\n",
    "        info = server.send_command(cmd)\n",
    "        results.append(info)\n",
    "    server.disconnect()\n",
    "    \n",
    "    route_data = results[0]\n",
    "    config_data = results[1]\n",
    "    interface_data = results[2]\n",
    "        \n",
    "    return route_data, config_data, interface_data"
   ]
  },
  {
   "cell_type": "code",
   "execution_count": 10,
   "id": "1c99ed78",
   "metadata": {},
   "outputs": [],
   "source": [
    "def check_dir(dir_path):\n",
    "    if not os.path.exists(dir_path):\n",
    "        os.mkdir(dir_path)"
   ]
  },
  {
   "cell_type": "code",
   "execution_count": 16,
   "id": "8eb44449",
   "metadata": {},
   "outputs": [],
   "source": [
    "def output_route_data(route_data, dir_path):\n",
    "    output_data = route_data.split(\"\\n\\n\")[-1]\n",
    "    with open(dir_path + \"/route.txt\", \"w\") as file:\n",
    "        file.write(output_data)"
   ]
  },
  {
   "cell_type": "code",
   "execution_count": 17,
   "id": "42e998e6",
   "metadata": {},
   "outputs": [],
   "source": [
    "def output_config_data(config_data, dir_path):\n",
    "    output_data = config_data\n",
    "    with open(dir_path + \"/config.txt\", \"w\") as file:\n",
    "        file.write(output_data)"
   ]
  },
  {
   "cell_type": "code",
   "execution_count": 18,
   "id": "8f7ab99a",
   "metadata": {},
   "outputs": [],
   "source": [
    "def output_if_data(interface_data, dir_path):\n",
    "    output_data = interface_data\n",
    "    with open(dir_path + \"/if.txt\", \"w\") as file:\n",
    "        file.write(output_data)"
   ]
  },
  {
   "cell_type": "code",
   "execution_count": 19,
   "id": "0da5e9fd",
   "metadata": {},
   "outputs": [],
   "source": [
    "def main():\n",
    "    # 连接设备获取运维数据\n",
    "    server = ConnectHandler(**device_info)\n",
    "    route_data, config_data, interface_data = show_cmd(server, commands)\n",
    "    # 数据存档生成报告\n",
    "    dir_path = \"report\"\n",
    "    check_dir(dir_path)\n",
    "    output_route_data(route_data, dir_path)\n",
    "    output_config_data(config_data, dir_path)\n",
    "    output_if_data(interface_data, dir_path)\n",
    "    print(\"运维结束，报告已生成！\")"
   ]
  },
  {
   "cell_type": "code",
   "execution_count": 20,
   "id": "812d4acd",
   "metadata": {},
   "outputs": [
    {
     "name": "stdout",
     "output_type": "stream",
     "text": [
      "SSH connection established to 192.168.1.51:22\n",
      "Interactive SSH session established\n",
      "运维结束，报告已生成！\n"
     ]
    }
   ],
   "source": [
    "main()"
   ]
  },
  {
   "cell_type": "code",
   "execution_count": null,
   "id": "53f466e1",
   "metadata": {},
   "outputs": [],
   "source": []
  }
 ],
 "metadata": {
  "kernelspec": {
   "display_name": "Python 3 (ipykernel)",
   "language": "python",
   "name": "python3"
  },
  "language_info": {
   "codemirror_mode": {
    "name": "ipython",
    "version": 3
   },
   "file_extension": ".py",
   "mimetype": "text/x-python",
   "name": "python",
   "nbconvert_exporter": "python",
   "pygments_lexer": "ipython3",
   "version": "3.8.10"
  }
 },
 "nbformat": 4,
 "nbformat_minor": 5
}
