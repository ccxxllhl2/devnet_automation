{
 "cells": [
  {
   "cell_type": "markdown",
   "metadata": {},
   "source": [
    "# CISCO设备 ARP 配置\n",
    "* 理解netmiko的主要API\n",
    "* https://ktbyers.github.io/netmiko/docs/netmiko/base_connection.html"
   ]
  },
  {
   "cell_type": "code",
   "execution_count": 1,
   "metadata": {},
   "outputs": [],
   "source": [
    "import re\n",
    "from netmiko import ConnectHandler\n",
    "\n",
    "class playARP():\n",
    "    def __init__(self, connect_info_dict):\n",
    "        self.net = ConnectHandler(**connect_info_dict)\n",
    "        self.ip_pattern = r\"^(([01]{0,1}\\d{0,1}\\d|2[0-4]\\d|25[0-5])\\.){3}([01]{0,1}\\d{0,1}\\d|2[0-4]\\d|25[0-5])$\"\n",
    "        self.mac_pattern = r\"^([A-F0-9]{4}\\.[A-F0-9]{4}\\.[A-F0-9]{4}|[a-f0-9]{4}\\.[a-f0-9]{4}\\.[a-f0-9]{4})$\"\n",
    "        self.type_pattern = r\"^(arpa|sap|smds|snap|srp-a|srp-b)$\"\n",
    "        self.add_ip_list = []\n",
    "        \n",
    "    def _connect_device(self):\n",
    "        if not self.net.is_alive():\n",
    "            self.net = ConnectHandler(**connect_info_dict)\n",
    "            #print(f\"连接成功，当前提示符为{self.net.find_prompt()}\")\n",
    "        \n",
    "    def get_arp(self):\n",
    "        self._connect_device()\n",
    "        print(self.net.send_command(\"show ip arp\"))\n",
    "        \n",
    "    def add_arp(self, ip, mac, arp_type=\"arpa\"):\n",
    "        self._connect_device()\n",
    "        if not re.search(self.ip_pattern, ip):\n",
    "            print(\"IP地址格式错误\")\n",
    "        elif not re.search(self.mac_pattern, mac):\n",
    "            print(\"MAC地址格式错误\")\n",
    "        elif not re.search(self.type_pattern, arp_type):\n",
    "            print(\"ARP类型错误\")\n",
    "        else:\n",
    "            self.net.send_config_set(f\"arp {ip} {mac} {arp_type}\")\n",
    "            self.get_arp()\n",
    "            self.add_ip_list.append(ip)\n",
    "            print(\"配置成功\")\n",
    "            \n",
    "    def del_arp(self, ip):\n",
    "        self._connect_device()\n",
    "        if not re.search(self.ip_pattern, ip):\n",
    "            print(\"IP地址格式错误\")\n",
    "        elif ip not in self.add_ip_list:\n",
    "            print(\"此IP地址并没有通过<add_arp>添加过\")\n",
    "        else:\n",
    "            self.net.send_config_set(f\"no arp {ip}\")\n",
    "            self.get_arp()\n",
    "            self.add_ip_list.remove(ip)"
   ]
  },
  {
   "cell_type": "code",
   "execution_count": 2,
   "metadata": {},
   "outputs": [],
   "source": [
    "connect_info_dict= {\n",
    "    \"device_type\": \"cisco_ios\",\n",
    "    \"host\": \"192.168.1.50\",\n",
    "    \"username\": \"ciscouser\",\n",
    "    \"secret\": \"cisco123\",\n",
    "    \"password\": \"cisco@123\",\n",
    "}"
   ]
  },
  {
   "cell_type": "code",
   "execution_count": 5,
   "metadata": {
    "scrolled": true
   },
   "outputs": [
    {
     "name": "stdout",
     "output_type": "stream",
     "text": [
      "\n",
      "Protocol  Address          Age (min)  Hardware Addr   Type   Interface\n",
      "Internet  192.168.1.50            -   c201.36ee.0000  ARPA   FastEthernet0/0\n",
      "Internet  192.168.1.1             0   30cc.218d.2220  ARPA   FastEthernet0/0\n",
      "Internet  192.168.1.7             0   4845.20ba.1512  ARPA   FastEthernet0/0\n",
      "Internet  192.168.1.6             0   0c82.6830.09f6  ARPA   FastEthernet0/0\n"
     ]
    }
   ],
   "source": [
    "my_arp = playARP(connect_info_dict)\n",
    "my_arp.get_arp()"
   ]
  },
  {
   "cell_type": "code",
   "execution_count": 14,
   "metadata": {},
   "outputs": [
    {
     "name": "stdout",
     "output_type": "stream",
     "text": [
      "\n",
      "Protocol  Address          Age (min)  Hardware Addr   Type   Interface\n",
      "Internet  1.1.1.1                 -   aaaa.bbbb.cccc  ARPA  \n",
      "Internet  192.168.1.50            -   c201.0f5e.0000  ARPA   FastEthernet0/0\n",
      "Internet  192.168.1.7             0   4845.20ba.1512  ARPA   FastEthernet0/0\n",
      "Internet  192.168.1.6             0   0c82.6830.09f6  ARPA   FastEthernet0/0\n",
      "配置成功\n"
     ]
    }
   ],
   "source": [
    "my_arp.add_arp(\"1.1.1.1\", \"aaaa.bbbb.cccc\", \"arpa\")"
   ]
  },
  {
   "cell_type": "code",
   "execution_count": 17,
   "metadata": {
    "scrolled": true
   },
   "outputs": [
    {
     "name": "stdout",
     "output_type": "stream",
     "text": [
      "\n",
      "Protocol  Address          Age (min)  Hardware Addr   Type   Interface\n",
      "Internet  192.168.1.50            -   c201.0f5e.0000  ARPA   FastEthernet0/0\n",
      "Internet  192.168.1.7             0   4845.20ba.1512  ARPA   FastEthernet0/0\n",
      "Internet  192.168.1.6             0   0c82.6830.09f6  ARPA   FastEthernet0/0\n"
     ]
    }
   ],
   "source": [
    "my_arp.del_arp(\"1.1.1.1\")"
   ]
  },
  {
   "cell_type": "code",
   "execution_count": 6,
   "metadata": {},
   "outputs": [
    {
     "data": {
      "text/plain": [
       "True"
      ]
     },
     "execution_count": 6,
     "metadata": {},
     "output_type": "execute_result"
    }
   ],
   "source": [
    "my_arp.net.check_enable_mode()"
   ]
  },
  {
   "cell_type": "code",
   "execution_count": 7,
   "metadata": {},
   "outputs": [
    {
     "data": {
      "text/plain": [
       "'disable\\r\\nR1>'"
      ]
     },
     "execution_count": 7,
     "metadata": {},
     "output_type": "execute_result"
    }
   ],
   "source": [
    "my_arp.net.exit_enable_mode()"
   ]
  },
  {
   "cell_type": "code",
   "execution_count": 8,
   "metadata": {},
   "outputs": [
    {
     "data": {
      "text/plain": [
       "'R1>'"
      ]
     },
     "execution_count": 8,
     "metadata": {},
     "output_type": "execute_result"
    }
   ],
   "source": [
    "my_arp.net.find_prompt()"
   ]
  },
  {
   "cell_type": "code",
   "execution_count": 12,
   "metadata": {},
   "outputs": [
    {
     "name": "stdout",
     "output_type": "stream",
     "text": [
      "\n",
      "Protocol  Address          Age (min)  Hardware Addr   Type   Interface\n",
      "Internet  2.2.2.2                 -   aaaa.bbbb.cccc  ARPA  \n",
      "Internet  192.168.1.50            -   c201.36ee.0000  ARPA   FastEthernet0/0\n",
      "Internet  192.168.1.1             1   30cc.218d.2220  ARPA   FastEthernet0/0\n",
      "Internet  192.168.1.7             0   4845.20ba.1512  ARPA   FastEthernet0/0\n",
      "Internet  192.168.1.6             0   0c82.6830.09f6  ARPA   FastEthernet0/0\n",
      "配置成功\n"
     ]
    }
   ],
   "source": [
    "my_arp.add_arp(\"2.2.2.2\", \"aaaa.bbbb.cccc\")"
   ]
  },
  {
   "cell_type": "code",
   "execution_count": 11,
   "metadata": {},
   "outputs": [
    {
     "data": {
      "text/plain": [
       "'R1#'"
      ]
     },
     "execution_count": 11,
     "metadata": {},
     "output_type": "execute_result"
    }
   ],
   "source": [
    "my_arp.net.find_prompt()"
   ]
  },
  {
   "cell_type": "code",
   "execution_count": 10,
   "metadata": {},
   "outputs": [
    {
     "data": {
      "text/plain": [
       "'enable\\r\\nPassword: \\r\\nR1#'"
      ]
     },
     "execution_count": 10,
     "metadata": {},
     "output_type": "execute_result"
    }
   ],
   "source": [
    "my_arp.net.enable()"
   ]
  },
  {
   "cell_type": "code",
   "execution_count": 13,
   "metadata": {},
   "outputs": [
    {
     "name": "stdout",
     "output_type": "stream",
     "text": [
      "\n",
      "Protocol  Address          Age (min)  Hardware Addr   Type   Interface\n",
      "Internet  192.168.1.50            -   c201.36ee.0000  ARPA   FastEthernet0/0\n",
      "Internet  192.168.1.1             1   30cc.218d.2220  ARPA   FastEthernet0/0\n",
      "Internet  192.168.1.7             0   4845.20ba.1512  ARPA   FastEthernet0/0\n",
      "Internet  192.168.1.6             0   0c82.6830.09f6  ARPA   FastEthernet0/0\n"
     ]
    }
   ],
   "source": [
    "my_arp.del_arp(\"2.2.2.2\")"
   ]
  }
 ],
 "metadata": {
  "kernelspec": {
   "display_name": "Python 3",
   "language": "python",
   "name": "python3"
  },
  "language_info": {
   "codemirror_mode": {
    "name": "ipython",
    "version": 3
   },
   "file_extension": ".py",
   "mimetype": "text/x-python",
   "name": "python",
   "nbconvert_exporter": "python",
   "pygments_lexer": "ipython3",
   "version": "3.7.0"
  }
 },
 "nbformat": 4,
 "nbformat_minor": 2
}
