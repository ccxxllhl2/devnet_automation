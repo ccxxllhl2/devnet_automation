{
 "cells": [
  {
   "cell_type": "markdown",
   "metadata": {},
   "source": [
    "## NXOS设备配置\n",
    "* feature bgp\n",
    "* router bgp 65000\n",
    " * address-family ipv4 unicast"
   ]
  },
  {
   "cell_type": "code",
   "execution_count": 1,
   "metadata": {},
   "outputs": [],
   "source": [
    "import xmltodict\n",
    "from ncclient import manager"
   ]
  },
  {
   "cell_type": "code",
   "execution_count": 2,
   "metadata": {},
   "outputs": [],
   "source": [
    "NXOS_netconf_info = {\"host\": \"192.168.1.65\",\n",
    "                     \"port\": 830,\n",
    "                     \"username\": \"netconf\",\n",
    "                     \"password\": \"netconf@123\",\n",
    "                     \"hostkey_verify\": False}"
   ]
  },
  {
   "cell_type": "code",
   "execution_count": 19,
   "metadata": {},
   "outputs": [],
   "source": [
    "def nxconfig_bgp(method=\"get\", config_filter=None, config_data=None):\n",
    "    if method == \"config\":\n",
    "        with manager.connect(**NXOS_netconf_info) as device:\n",
    "            netconf_response = device.edit_config(target='running', config=config_data)\n",
    "            return netconf_response\n",
    "    else:\n",
    "        with manager.connect(**NXOS_netconf_info) as device:\n",
    "            netconf_response = device.get_config(source=\"running\", filter=config_filter)\n",
    "            bgp_data = xmltodict.parse(netconf_response.xml)\n",
    "            return bgp_data['rpc-reply']['data']['System']['bgp-items']"
   ]
  },
  {
   "cell_type": "markdown",
   "metadata": {},
   "source": [
    "## 完成BGP基础配置"
   ]
  },
  {
   "cell_type": "code",
   "execution_count": 20,
   "metadata": {},
   "outputs": [],
   "source": [
    "bgp_baseline_config = '''<config>\n",
    "    <System xmlns=\"http://cisco.com/ns/yang/cisco-nx-os-device\">\n",
    "        <bgp-items>\n",
    "            <adminSt>enabled</adminSt>\n",
    "            <inst-items>\n",
    "                <adminSt>enabled</adminSt>\n",
    "                <asn>65000</asn>\n",
    "                <ctrl>fastExtFallover</ctrl>\n",
    "                <disPolBatch>disabled</disPolBatch>\n",
    "                <dom-items>\n",
    "                    <Dom-list>\n",
    "                        <rtrId>172.16.0.1</rtrId>\n",
    "                        <name>default</name>\n",
    "                        <af-items>\n",
    "                            <DomAf-list>\n",
    "                                <type>ipv4-ucast</type>\n",
    "                                <advPip>disabled</advPip>\n",
    "                                <advSysMac>disabled</advSysMac>\n",
    "                                <advertL2vpnEvpn>disabled</advertL2vpnEvpn>\n",
    "                                <allocLblAll>disabled</allocLblAll>\n",
    "                                <clReflection>enabled</clReflection>\n",
    "                                <critNhTimeout>3000</critNhTimeout>\n",
    "                                <defInfOriginate>disabled</defInfOriginate>\n",
    "                                <exportGwIp>disabled</exportGwIp>\n",
    "                                <igpMetric>600</igpMetric>\n",
    "                                <lblAllocMod>disabled</lblAllocMod>\n",
    "                                <maxEcmp>1</maxEcmp>\n",
    "                                <maxExtEcmp>1</maxExtEcmp>\n",
    "                                <maxExtIntEcmp>1</maxExtIntEcmp>\n",
    "                                <maxMxdEcmp>1</maxMxdEcmp>\n",
    "                                <nonCritNhTimeout>10000</nonCritNhTimeout>\n",
    "                                <prefix-items>\n",
    "                                    <AdvPrefix-list>\n",
    "                                        <addr>172.16.0.0/16</addr>\n",
    "                                    </AdvPrefix-list>\n",
    "                                </prefix-items>\n",
    "                                <retainRttAll>disabled</retainRttAll>\n",
    "                                <supprInactive>disabled</supprInactive>\n",
    "                                <tblMapFltr>disabled</tblMapFltr>\n",
    "                                <vniEthTag>disabled</vniEthTag>\n",
    "                            </DomAf-list>\n",
    "                        </af-items>\n",
    "                        <always>disabled</always>\n",
    "                        <bestPathIntvl>300</bestPathIntvl>\n",
    "                        <holdIntvl>180</holdIntvl>\n",
    "                        <kaIntvl>60</kaIntvl>\n",
    "                        <mode>fabric</mode>\n",
    "                        <peer-items>\n",
    "                            <Peer-list>\n",
    "                                <addr>172.16.0.2</addr>\n",
    "                                <adminSt>enabled</adminSt>\n",
    "                                <asn>65535</asn>\n",
    "                                <bmpSrvId1St>disabled</bmpSrvId1St>\n",
    "                                <bmpSrvId2St>disabled</bmpSrvId2St>\n",
    "                                <capSuppr4ByteAsn>disabled</capSuppr4ByteAsn>\n",
    "                                <epe>disabled</epe>\n",
    "                                <holdIntvl>180</holdIntvl>\n",
    "                                <inheritContPeerCtrl/>\n",
    "                                <kaIntvl>60</kaIntvl>\n",
    "                                <logNbrChgs>none</logNbrChgs>\n",
    "                                <lowMemExempt>disabled</lowMemExempt>\n",
    "                                <passwdType>LINE</passwdType>\n",
    "                                <peerType>fabric-internal</peerType>\n",
    "                                <privateASctrl>none</privateASctrl>\n",
    "                            </Peer-list>\n",
    "                        </peer-items>\n",
    "                        <pfxPeerTimeout>30</pfxPeerTimeout>\n",
    "                        <pfxPeerWaitTime>90</pfxPeerWaitTime>\n",
    "                        <reConnIntvl>60</reConnIntvl>\n",
    "                    </Dom-list>\n",
    "                </dom-items>\n",
    "                <evthist-items>\n",
    "                    <EvtHist-list>\n",
    "                        <type>cli</type>\n",
    "                        <size>0</size>\n",
    "                    </EvtHist-list>\n",
    "                    <EvtHist-list>\n",
    "                        <type>errors</type>\n",
    "                        <size>0</size>\n",
    "                    </EvtHist-list>\n",
    "                    <EvtHist-list>\n",
    "                        <type>events</type>\n",
    "                        <size>0</size>\n",
    "                    </EvtHist-list>\n",
    "                </evthist-items>\n",
    "                <flushRoutes>disabled</flushRoutes>\n",
    "                <isolate>disabled</isolate>\n",
    "                <name>bgp</name>\n",
    "            </inst-items>\n",
    "            <name>bgp</name>\n",
    "        </bgp-items>\n",
    "    </System>\n",
    "</config>'''"
   ]
  },
  {
   "cell_type": "code",
   "execution_count": 21,
   "metadata": {},
   "outputs": [],
   "source": [
    "netconf_response = nxconfig_bgp(method=\"config\", config_data=bgp_baseline_config)"
   ]
  },
  {
   "cell_type": "markdown",
   "metadata": {},
   "source": [
    "## 查看BGP基础配置"
   ]
  },
  {
   "cell_type": "code",
   "execution_count": 22,
   "metadata": {},
   "outputs": [],
   "source": [
    "bgp_filter = \"\"\"\n",
    "<filter>\n",
    "  <System xmlns=\"http://cisco.com/ns/yang/cisco-nx-os-device\">\n",
    "    <bgp-items/>\n",
    "  </System>\n",
    "</filter>\n",
    "\"\"\""
   ]
  },
  {
   "cell_type": "code",
   "execution_count": 23,
   "metadata": {},
   "outputs": [],
   "source": [
    "bgp_data = nxconfig_bgp(method=\"get\", config_filter=bgp_filter)"
   ]
  },
  {
   "cell_type": "code",
   "execution_count": 24,
   "metadata": {},
   "outputs": [
    {
     "data": {
      "text/plain": [
       "OrderedDict([('adminSt', 'enabled'),\n",
       "             ('inst-items',\n",
       "              OrderedDict([('adminSt', 'enabled'),\n",
       "                           ('asn', '65000'),\n",
       "                           ('ctrl', 'fastExtFallover'),\n",
       "                           ('disPolBatch', 'disabled'),\n",
       "                           ('dom-items',\n",
       "                            OrderedDict([('Dom-list',\n",
       "                                          OrderedDict([('name', 'default'),\n",
       "                                                       ('af-items',\n",
       "                                                        OrderedDict([('DomAf-list',\n",
       "                                                                      OrderedDict([('type',\n",
       "                                                                                    'ipv4-ucast'),\n",
       "                                                                                   ('advPip',\n",
       "                                                                                    'disabled'),\n",
       "                                                                                   ('advSysMac',\n",
       "                                                                                    'disabled'),\n",
       "                                                                                   ('advertL2vpnEvpn',\n",
       "                                                                                    'disabled'),\n",
       "                                                                                   ('allocLblAll',\n",
       "                                                                                    'disabled'),\n",
       "                                                                                   ('allocLblOptB',\n",
       "                                                                                    'disabled'),\n",
       "                                                                                   ('clReflection',\n",
       "                                                                                    'enabled'),\n",
       "                                                                                   ('critNhTimeout',\n",
       "                                                                                    '3000'),\n",
       "                                                                                   ('defInfOriginate',\n",
       "                                                                                    'disabled'),\n",
       "                                                                                   ('exportGwIp',\n",
       "                                                                                    'disabled'),\n",
       "                                                                                   ('igpMetric',\n",
       "                                                                                    '600'),\n",
       "                                                                                   ('lblAllocMod',\n",
       "                                                                                    'disabled'),\n",
       "                                                                                   ('maxEcmp',\n",
       "                                                                                    '1'),\n",
       "                                                                                   ('maxExtEcmp',\n",
       "                                                                                    '1'),\n",
       "                                                                                   ('maxExtIntEcmp',\n",
       "                                                                                    '1'),\n",
       "                                                                                   ('maxLclEcmp',\n",
       "                                                                                    '1'),\n",
       "                                                                                   ('maxMxdEcmp',\n",
       "                                                                                    '1'),\n",
       "                                                                                   ('nonCritNhTimeout',\n",
       "                                                                                    '10000'),\n",
       "                                                                                   ('prefix-items',\n",
       "                                                                                    OrderedDict([('AdvPrefix-list',\n",
       "                                                                                                  OrderedDict([('addr',\n",
       "                                                                                                                '172.16.0.0/16')]))])),\n",
       "                                                                                   ('prfxPriority',\n",
       "                                                                                    'none'),\n",
       "                                                                                   ('retainRttAll',\n",
       "                                                                                    'disabled'),\n",
       "                                                                                   ('supprInactive',\n",
       "                                                                                    'disabled'),\n",
       "                                                                                   ('tblMapFltr',\n",
       "                                                                                    'disabled'),\n",
       "                                                                                   ('vniEthTag',\n",
       "                                                                                    'disabled'),\n",
       "                                                                                   ('waitIgpConv',\n",
       "                                                                                    'disabled')]))])),\n",
       "                                                       ('always', 'disabled'),\n",
       "                                                       ('bestPathIntvl',\n",
       "                                                        '300'),\n",
       "                                                       ('gr-items',\n",
       "                                                        OrderedDict([('ctrl',\n",
       "                                                                      'complete'),\n",
       "                                                                     ('restartIntvl',\n",
       "                                                                      '120'),\n",
       "                                                                     ('staleIntvl',\n",
       "                                                                      '300')])),\n",
       "                                                       ('gs-items',\n",
       "                                                        OrderedDict([('gshutActivate',\n",
       "                                                                      'false'),\n",
       "                                                                     ('gshutAware',\n",
       "                                                                      'true')])),\n",
       "                                                       ('holdIntvl', '180'),\n",
       "                                                       ('kaIntvl', '60'),\n",
       "                                                       ('mode', 'fabric'),\n",
       "                                                       ('peer-items',\n",
       "                                                        OrderedDict([('Peer-list',\n",
       "                                                                      OrderedDict([('addr',\n",
       "                                                                                    '172.16.0.2'),\n",
       "                                                                                   ('adminSt',\n",
       "                                                                                    'enabled'),\n",
       "                                                                                   ('asn',\n",
       "                                                                                    '65535'),\n",
       "                                                                                   ('bfdType',\n",
       "                                                                                    'none'),\n",
       "                                                                                   ('bmpSrvId1St',\n",
       "                                                                                    'disabled'),\n",
       "                                                                                   ('bmpSrvId2St',\n",
       "                                                                                    'disabled'),\n",
       "                                                                                   ('capSuppr4ByteAsn',\n",
       "                                                                                    'disabled'),\n",
       "                                                                                   ('dscp',\n",
       "                                                                                    'cs6'),\n",
       "                                                                                   ('epe',\n",
       "                                                                                    'disabled'),\n",
       "                                                                                   ('holdIntvl',\n",
       "                                                                                    '180'),\n",
       "                                                                                   ('inheritContPeerCtrl',\n",
       "                                                                                    None),\n",
       "                                                                                   ('internalVpnClient',\n",
       "                                                                                    'disabled'),\n",
       "                                                                                   ('kaIntvl',\n",
       "                                                                                    '60'),\n",
       "                                                                                   ('logNbrChgs',\n",
       "                                                                                    'none'),\n",
       "                                                                                   ('lowMemExempt',\n",
       "                                                                                    'disabled'),\n",
       "                                                                                   ('passwdType',\n",
       "                                                                                    'LINE'),\n",
       "                                                                                   ('peerType',\n",
       "                                                                                    'fabric-internal'),\n",
       "                                                                                   ('privateASctrl',\n",
       "                                                                                    'none')]))])),\n",
       "                                                       ('pfxPeerTimeout',\n",
       "                                                        '30'),\n",
       "                                                       ('pfxPeerWaitTime',\n",
       "                                                        '90'),\n",
       "                                                       ('reConnIntvl', '60'),\n",
       "                                                       ('rtctrl-items',\n",
       "                                                        OrderedDict([('enforceFirstAs',\n",
       "                                                                      'enabled'),\n",
       "                                                                     ('fibAccelerate',\n",
       "                                                                      'disabled'),\n",
       "                                                                     ('logNeighborChanges',\n",
       "                                                                      'disabled'),\n",
       "                                                                     ('supprRt',\n",
       "                                                                      'enabled')])),\n",
       "                                                       ('rtrId',\n",
       "                                                        '172.16.0.1')]))])),\n",
       "                           ('enhancedErr', 'true'),\n",
       "                           ('evthist-items',\n",
       "                            OrderedDict([('EvtHist-list',\n",
       "                                          [OrderedDict([('type', 'nve'),\n",
       "                                                        ('size', '0')]),\n",
       "                                           OrderedDict([('type', 'cli'),\n",
       "                                                        ('size', '0')]),\n",
       "                                           OrderedDict([('type', 'events'),\n",
       "                                                        ('size', '0')]),\n",
       "                                           OrderedDict([('type', 'errors'),\n",
       "                                                        ('size', '0')]),\n",
       "                                           OrderedDict([('type', 'socket'),\n",
       "                                                        ('size', '0')])])])),\n",
       "                           ('flushRoutes', 'disabled'),\n",
       "                           ('isolate', 'disabled'),\n",
       "                           ('name', 'bgp'),\n",
       "                           ('nhSupprDefRes', 'disabled'),\n",
       "                           ('rdDual', 'enabled')])),\n",
       "             ('name', 'bgp')])"
      ]
     },
     "execution_count": 24,
     "metadata": {},
     "output_type": "execute_result"
    }
   ],
   "source": [
    "bgp_data"
   ]
  },
  {
   "cell_type": "markdown",
   "metadata": {},
   "source": [
    "## BGP Prefix"
   ]
  },
  {
   "cell_type": "code",
   "execution_count": 25,
   "metadata": {},
   "outputs": [],
   "source": [
    "prefix = \"10.99.99.0/24\""
   ]
  },
  {
   "cell_type": "code",
   "execution_count": 26,
   "metadata": {},
   "outputs": [],
   "source": [
    "add_prefix = \"\"\" <config>\n",
    "<System xmlns=\"http://cisco.com/ns/yang/cisco-nx-os-device\">\n",
    "    <bgp-items>\n",
    "        <inst-items>\n",
    "            <dom-items>\n",
    "                <Dom-list>\n",
    "                    <name>default</name>\n",
    "                    <af-items>\n",
    "                        <DomAf-list>\n",
    "                            <type>ipv4-ucast</type>\n",
    "                            <prefix-items>\n",
    "                                <AdvPrefix-list>\n",
    "                                    <addr>{}</addr>\n",
    "                                </AdvPrefix-list>\n",
    "                            </prefix-items>\n",
    "                        </DomAf-list>\n",
    "                    </af-items>\n",
    "                </Dom-list>\n",
    "            </dom-items>\n",
    "        </inst-items>\n",
    "    </bgp-items>\n",
    "</System>\n",
    "</config>\"\"\".format(prefix)"
   ]
  },
  {
   "cell_type": "code",
   "execution_count": 27,
   "metadata": {},
   "outputs": [
    {
     "data": {
      "text/plain": [
       "<?xml version=\"1.0\" encoding=\"UTF-8\"?>\n",
       "<rpc-reply xmlns=\"urn:ietf:params:xml:ns:netconf:base:1.0\" message-id=\"urn:uuid:039fedbb-bc70-4087-9a87-192d1fb720bc\">\n",
       "    <ok/>\n",
       "</rpc-reply>"
      ]
     },
     "execution_count": 27,
     "metadata": {},
     "output_type": "execute_result"
    }
   ],
   "source": [
    "nxconfig_bgp(method=\"config\", config_data=add_prefix)"
   ]
  },
  {
   "cell_type": "markdown",
   "metadata": {},
   "source": [
    "## 查看配置好的 Prefix"
   ]
  },
  {
   "cell_type": "code",
   "execution_count": 28,
   "metadata": {},
   "outputs": [],
   "source": [
    "bgp_data = nxconfig_bgp(method=\"get\", config_filter=bgp_filter)"
   ]
  },
  {
   "cell_type": "code",
   "execution_count": 29,
   "metadata": {},
   "outputs": [
    {
     "data": {
      "text/plain": [
       "[OrderedDict([('addr', '10.99.99.0/24')]),\n",
       " OrderedDict([('addr', '172.16.0.0/16')])]"
      ]
     },
     "execution_count": 29,
     "metadata": {},
     "output_type": "execute_result"
    }
   ],
   "source": [
    "bgp_data['inst-items']['dom-items']['Dom-list']['af-items']['DomAf-list']['prefix-items']['AdvPrefix-list']"
   ]
  },
  {
   "cell_type": "markdown",
   "metadata": {},
   "source": [
    "## 删除配置好的 Prefix"
   ]
  },
  {
   "cell_type": "code",
   "execution_count": 32,
   "metadata": {},
   "outputs": [],
   "source": [
    "del_prefix = \"\"\" <config>\n",
    "<System xmlns=\"http://cisco.com/ns/yang/cisco-nx-os-device\">\n",
    "    <bgp-items>\n",
    "        <inst-items>\n",
    "            <dom-items>\n",
    "                <Dom-list>\n",
    "                    <name>default</name>\n",
    "                    <af-items>\n",
    "                        <DomAf-list>\n",
    "                            <type>ipv4-ucast</type>\n",
    "                            <prefix-items>\n",
    "                                <AdvPrefix-list operation=\"remove\">\n",
    "                                    <addr>{}</addr>\n",
    "                                </AdvPrefix-list>\n",
    "                            </prefix-items>\n",
    "                        </DomAf-list>\n",
    "                    </af-items>\n",
    "                </Dom-list>\n",
    "            </dom-items>\n",
    "        </inst-items>\n",
    "    </bgp-items>\n",
    "</System>\n",
    "</config>\"\"\".format(prefix)"
   ]
  },
  {
   "cell_type": "code",
   "execution_count": 33,
   "metadata": {},
   "outputs": [
    {
     "data": {
      "text/plain": [
       "<?xml version=\"1.0\" encoding=\"UTF-8\"?>\n",
       "<rpc-reply xmlns=\"urn:ietf:params:xml:ns:netconf:base:1.0\" message-id=\"urn:uuid:7bd9d2cf-d83c-4548-8954-753ae69a4df1\">\n",
       "    <ok/>\n",
       "</rpc-reply>"
      ]
     },
     "execution_count": 33,
     "metadata": {},
     "output_type": "execute_result"
    }
   ],
   "source": [
    "nxconfig_bgp(method=\"config\", config_data=del_prefix)"
   ]
  },
  {
   "cell_type": "markdown",
   "metadata": {},
   "source": [
    "## 查看删除效果"
   ]
  },
  {
   "cell_type": "code",
   "execution_count": 34,
   "metadata": {},
   "outputs": [
    {
     "data": {
      "text/plain": [
       "OrderedDict([('addr', '172.16.0.0/16')])"
      ]
     },
     "execution_count": 34,
     "metadata": {},
     "output_type": "execute_result"
    }
   ],
   "source": [
    "bgp_data = nxconfig_bgp(method=\"get\", config_filter=bgp_filter)\n",
    "bgp_data['inst-items']['dom-items']['Dom-list']['af-items']['DomAf-list']['prefix-items']['AdvPrefix-list']"
   ]
  }
 ],
 "metadata": {
  "kernelspec": {
   "display_name": "Python 3",
   "language": "python",
   "name": "python3"
  },
  "language_info": {
   "codemirror_mode": {
    "name": "ipython",
    "version": 3
   },
   "file_extension": ".py",
   "mimetype": "text/x-python",
   "name": "python",
   "nbconvert_exporter": "python",
   "pygments_lexer": "ipython3",
   "version": "3.7.0"
  }
 },
 "nbformat": 4,
 "nbformat_minor": 2
}
