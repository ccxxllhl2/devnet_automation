{
 "cells": [
  {
   "cell_type": "markdown",
   "metadata": {},
   "source": [
    "# 数据迁移"
   ]
  },
  {
   "cell_type": "code",
   "execution_count": null,
   "metadata": {},
   "outputs": [],
   "source": [
    "import sqlite3 as sql\n",
    "import pandas as pd"
   ]
  },
  {
   "cell_type": "markdown",
   "metadata": {},
   "source": [
    "### 建立一些参数"
   ]
  },
  {
   "cell_type": "code",
   "execution_count": null,
   "metadata": {},
   "outputs": [],
   "source": [
    "db_name = \"NETWORK_OPS\"\n",
    "table_name = \"DB_NETOPS\"\n",
    "excel_path = \"excel/ops_info.xlsx\""
   ]
  },
  {
   "cell_type": "markdown",
   "metadata": {},
   "source": [
    "## 连接（新建）数据库\n",
    "* 同时生成一个游标"
   ]
  },
  {
   "cell_type": "code",
   "execution_count": null,
   "metadata": {},
   "outputs": [],
   "source": [
    "DB = sql.connect(db_name)\n",
    "CURSOR = DB.cursor()"
   ]
  },
  {
   "cell_type": "markdown",
   "metadata": {},
   "source": [
    "## 在数据库里创建运维表"
   ]
  },
  {
   "cell_type": "code",
   "execution_count": null,
   "metadata": {},
   "outputs": [],
   "source": [
    "init_sql = f'''CREATE TABLE IF NOT EXISTS {table_name} \n",
    "(id INTEGER PRIMARY KEY,设备类型 TEXT,设备IP TEXT, 登入用户名 TEXT, 登入密码 TEXT)'''\n",
    "CURSOR.execute(init_sql)"
   ]
  },
  {
   "cell_type": "markdown",
   "metadata": {},
   "source": [
    "## 从EXCEL文档读入数据"
   ]
  },
  {
   "cell_type": "code",
   "execution_count": null,
   "metadata": {
    "scrolled": false
   },
   "outputs": [],
   "source": [
    "datas = pd.read_excel(excel_path)\n",
    "datas"
   ]
  },
  {
   "cell_type": "code",
   "execution_count": null,
   "metadata": {},
   "outputs": [],
   "source": [
    "list(datas.values[0])"
   ]
  },
  {
   "cell_type": "markdown",
   "metadata": {},
   "source": [
    "## 完成数据迁移"
   ]
  },
  {
   "cell_type": "code",
   "execution_count": null,
   "metadata": {},
   "outputs": [],
   "source": [
    "for line_num in range(datas.shape[0]):\n",
    "    #print(datas.values[line_num])\n",
    "    db_line = list(datas.values[line_num])\n",
    "    db_line.insert(0,line_num+1)\n",
    "    print(db_line)\n",
    "    CURSOR.execute(f\"INSERT INTO {table_name} VALUES(?,?,?,?,?)\", db_line)"
   ]
  },
  {
   "cell_type": "markdown",
   "metadata": {},
   "source": [
    "## 检查迁移结果"
   ]
  },
  {
   "cell_type": "code",
   "execution_count": null,
   "metadata": {},
   "outputs": [],
   "source": [
    "CURSOR.execute(f\"SELECT * FROM {table_name}\")\n",
    "CURSOR.fetchall()"
   ]
  },
  {
   "cell_type": "markdown",
   "metadata": {},
   "source": [
    "## 为数据库存盘"
   ]
  },
  {
   "cell_type": "code",
   "execution_count": null,
   "metadata": {},
   "outputs": [],
   "source": [
    "DB.commit()"
   ]
  },
  {
   "cell_type": "markdown",
   "metadata": {},
   "source": [
    "# 自动化运维"
   ]
  },
  {
   "cell_type": "code",
   "execution_count": 1,
   "metadata": {},
   "outputs": [],
   "source": [
    "import netmiko\n",
    "import os\n",
    "import time\n",
    "import sqlite3 as sql"
   ]
  },
  {
   "cell_type": "markdown",
   "metadata": {},
   "source": [
    "## 从数据库读取数据"
   ]
  },
  {
   "cell_type": "code",
   "execution_count": 2,
   "metadata": {},
   "outputs": [],
   "source": [
    "def get_device_info(db_name, table_name):\n",
    "    DB = sql.connect(db_name)\n",
    "    CURSOR = DB.cursor()\n",
    "    CURSOR.execute(f\"select * from {table_name}\")\n",
    "    return CURSOR.fetchall()\n",
    "    \n",
    "device_info = get_device_info(\"NETWORK_OPS\", \"DB_NETOPS\") "
   ]
  },
  {
   "cell_type": "code",
   "execution_count": 3,
   "metadata": {
    "scrolled": true
   },
   "outputs": [
    {
     "data": {
      "text/plain": [
       "[(1, 'cisco_ios', '192.168.1.60', 'ciscouser', 'cisco@123'),\n",
       " (2, 'cisco_ios', '192.168.1.61', 'ciscouser', 'cisco@123'),\n",
       " (3, 'cisco_ios', '192.168.1.62', 'ciscouser', 'cisco@123'),\n",
       " (4, 'huawei', '192.168.1.70', 'yeslab', 'huawei@123'),\n",
       " (5, 'huawei', '192.168.1.71', 'yeslab', 'huawei@123'),\n",
       " (6, 'huawei', '192.168.1.72', 'yeslab', 'huawei@123'),\n",
       " (7, 'huawei', '192.168.1.73', 'yeslab', 'huawei@123'),\n",
       " (8, 'huawei', '192.168.1.74', 'yeslab', 'huawei@123'),\n",
       " (9, 'huawei', '192.168.1.75', 'yeslab', 'huawei@123')]"
      ]
     },
     "execution_count": 3,
     "metadata": {},
     "output_type": "execute_result"
    }
   ],
   "source": [
    "device_info"
   ]
  },
  {
   "cell_type": "markdown",
   "metadata": {},
   "source": [
    "## 自动化备份函数"
   ]
  },
  {
   "cell_type": "code",
   "execution_count": 6,
   "metadata": {},
   "outputs": [],
   "source": [
    "def create_dict(ori_infos):\n",
    "    devices = []\n",
    "    for info in ori_infos:\n",
    "        device = {}\n",
    "        device['device_type'] = info[1]\n",
    "        device['port'] = 22\n",
    "        device['ip'] = info[2]\n",
    "        device['username'] = info[3]\n",
    "        device['password'] = info[4]\n",
    "        devices.append(device)\n",
    "    return devices\n",
    "    \n",
    "def check_folder(device_path, path):\n",
    "    if not os.path.isdir(path):\n",
    "        os.mkdir(path)\n",
    "    path += device_path + '/'\n",
    "    if not os.path.isdir(path):\n",
    "        os.mkdir(path)\n",
    "        print(\"{} 目录已建立\".format(path))\n",
    "    return path\n",
    "\n",
    "def create_filename():\n",
    "    time_struct = time.localtime()\n",
    "    str_year = str(time.localtime().tm_year) + \"_\"\n",
    "    str_mon = str(time.localtime().tm_mon) + \"_\"\n",
    "    str_mday = str(time.localtime().tm_mday) + \"_\"\n",
    "    str_hour = str(time.localtime().tm_hour) + \"_\"\n",
    "    str_min = str(time.localtime().tm_min) + \"_\"\n",
    "    str_sec = str(time.localtime().tm_sec) + \".cfg\"\n",
    "    filename = str_year + str_mon + str_mday + str_hour + str_min + str_sec\n",
    "    return filename\n",
    "\n",
    "def save_config(device_type, ip, path, config_data):\n",
    "    device_path = device_type + '_' + ip\n",
    "    this_path = check_folder(device_path, path)\n",
    "    filename = create_filename()\n",
    "    full_path = this_path + filename\n",
    "    with open(full_path, 'w') as f:\n",
    "        f.write(config_data)\n",
    "        \n",
    "def backup(config_save_path=\"config/\"):\n",
    "    ori_infos = get_device_info(\"NETWORK_OPS\", \"DB_NETOPS\")\n",
    "    devices = create_dict(ori_infos)\n",
    "    print(\"\\n\\\\(˙<>˙)==[配置备份中，活让我干就好，您喝茶]\\n\")\n",
    "    for device_info in devices:\n",
    "        server = netmiko.ConnectHandler(**device_info)\n",
    "        print(\"已登入设备：{}\".format(device_info[\"ip\"]))\n",
    "        if device_info['device_type'] == 'cisco_ios':\n",
    "            config = server.send_command(\"show running-config\")\n",
    "        elif device_info['device_type'] == 'huawei':\n",
    "            config = server.send_command(\"display current-configuration\")\n",
    "        print(\"已获取配置\")\n",
    "        server.disconnect()\n",
    "        del server\n",
    "        save_config(device_info['device_type'], device_info[\"ip\"], config_save_path, config)\n",
    "        print(\"已保存配置\")\n",
    "    print(\"\\n\\\\(˙ω˙)==[备份结束，新备份文件已经就位，请大哥检查]\")"
   ]
  },
  {
   "cell_type": "markdown",
   "metadata": {},
   "source": [
    "## 执行备份过程"
   ]
  },
  {
   "cell_type": "code",
   "execution_count": 8,
   "metadata": {},
   "outputs": [
    {
     "name": "stdout",
     "output_type": "stream",
     "text": [
      "\n",
      "\\(˙<>˙)==[配置备份中，活让我干就好，您喝茶]\n",
      "\n",
      "已登入设备：192.168.1.60\n",
      "已获取配置\n",
      "已保存配置\n",
      "已登入设备：192.168.1.61\n",
      "已获取配置\n",
      "已保存配置\n",
      "已登入设备：192.168.1.62\n",
      "已获取配置\n",
      "已保存配置\n",
      "已登入设备：192.168.1.70\n",
      "已获取配置\n",
      "已保存配置\n",
      "已登入设备：192.168.1.71\n",
      "已获取配置\n",
      "已保存配置\n",
      "已登入设备：192.168.1.72\n",
      "已获取配置\n",
      "已保存配置\n",
      "已登入设备：192.168.1.73\n",
      "已获取配置\n",
      "已保存配置\n",
      "已登入设备：192.168.1.74\n",
      "已获取配置\n",
      "已保存配置\n",
      "已登入设备：192.168.1.75\n",
      "已获取配置\n",
      "已保存配置\n",
      "\n",
      "\\(˙ω˙)==[备份结束，新备份文件已经就位，请大哥检查]\n"
     ]
    }
   ],
   "source": [
    "backup()"
   ]
  }
 ],
 "metadata": {
  "kernelspec": {
   "display_name": "Python 3",
   "language": "python",
   "name": "python3"
  },
  "language_info": {
   "codemirror_mode": {
    "name": "ipython",
    "version": 3
   },
   "file_extension": ".py",
   "mimetype": "text/x-python",
   "name": "python",
   "nbconvert_exporter": "python",
   "pygments_lexer": "ipython3",
   "version": "3.7.0"
  }
 },
 "nbformat": 4,
 "nbformat_minor": 2
}
