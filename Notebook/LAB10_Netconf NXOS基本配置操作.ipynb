{
 "cells": [
  {
   "cell_type": "markdown",
   "metadata": {},
   "source": [
    "## NXOS交换机配置\n",
    "* 用户名密码，设置权限为 network-admin\n",
    "* feature bash-shell\n",
    "* feature netconf\n",
    "* feature restconf\n",
    "* feature grpc\n",
    "* feature stfp-server"
   ]
  },
  {
   "cell_type": "code",
   "execution_count": 1,
   "metadata": {},
   "outputs": [],
   "source": [
    "import xmltodict\n",
    "from ncclient import manager"
   ]
  },
  {
   "cell_type": "code",
   "execution_count": 2,
   "metadata": {},
   "outputs": [],
   "source": [
    "NXOS_netconf_info = {\"host\": \"192.168.1.65\",\n",
    "                     \"port\": 830,\n",
    "                     \"username\": \"netconf\",\n",
    "                     \"password\": \"netconf@123\",\n",
    "                     \"hostkey_verify\": False}"
   ]
  },
  {
   "cell_type": "code",
   "execution_count": 3,
   "metadata": {},
   "outputs": [
    {
     "name": "stdout",
     "output_type": "stream",
     "text": [
      "urn:ietf:params:netconf:base:1.0\n",
      "urn:ietf:params:netconf:base:1.1\n",
      "urn:ietf:params:netconf:capability:writable-running:1.0\n",
      "urn:ietf:params:netconf:capability:rollback-on-error:1.0\n",
      "urn:ietf:params:netconf:capability:candidate:1.0\n",
      "urn:ietf:params:netconf:capability:validate:1.1\n",
      "urn:ietf:params:netconf:capability:confirmed-commit:1.1\n",
      "urn:ietf:params:netconf:capability:notification:1.0\n",
      "urn:ietf:params:netconf:capability:interleave:1.0\n",
      "urn:ietf:params:netconf:capability:with-defaults:1.0\n",
      "http://cisco.com/ns/yang/cisco-nx-os-device\n",
      "urn:ietf:params:netconf:base:1.0\n",
      "urn:ietf:params:netconf:base:1.1\n",
      "urn:ietf:params:netconf:capability:writable-running:1.0\n",
      "urn:ietf:params:netconf:capability:rollback-on-error:1.0\n",
      "urn:ietf:params:netconf:capability:candidate:1.0\n",
      "urn:ietf:params:netconf:capability:validate:1.1\n",
      "urn:ietf:params:netconf:capability:confirmed-commit:1.1\n",
      "urn:ietf:params:netconf:capability:notification:1.0\n",
      "urn:ietf:params:netconf:capability:interleave:1.0\n",
      "urn:ietf:params:netconf:capability:with-defaults:1.0\n",
      "http://cisco.com/ns/yang/cisco-nx-os-device\n",
      "urn:ietf:params:netconf:base:1.0\n",
      "urn:ietf:params:netconf:base:1.1\n",
      "urn:ietf:params:netconf:capability:writable-running:1.0\n",
      "urn:ietf:params:netconf:capability:rollback-on-error:1.0\n",
      "urn:ietf:params:netconf:capability:candidate:1.0\n",
      "urn:ietf:params:netconf:capability:validate:1.1\n",
      "urn:ietf:params:netconf:capability:confirmed-commit:1.1\n",
      "urn:ietf:params:netconf:capability:notification:1.0\n",
      "urn:ietf:params:netconf:capability:interleave:1.0\n",
      "urn:ietf:params:netconf:capability:with-defaults:1.0\n",
      "http://cisco.com/ns/yang/cisco-nx-os-device\n",
      "urn:ietf:params:netconf:base:1.0\n",
      "urn:ietf:params:netconf:base:1.1\n",
      "urn:ietf:params:netconf:capability:writable-running:1.0\n",
      "urn:ietf:params:netconf:capability:rollback-on-error:1.0\n",
      "urn:ietf:params:netconf:capability:candidate:1.0\n",
      "urn:ietf:params:netconf:capability:validate:1.1\n",
      "urn:ietf:params:netconf:capability:confirmed-commit:1.1\n",
      "urn:ietf:params:netconf:capability:notification:1.0\n",
      "urn:ietf:params:netconf:capability:interleave:1.0\n",
      "urn:ietf:params:netconf:capability:with-defaults:1.0\n",
      "http://cisco.com/ns/yang/cisco-nx-os-device\n",
      "urn:ietf:params:netconf:base:1.0\n",
      "urn:ietf:params:netconf:base:1.1\n",
      "urn:ietf:params:netconf:capability:writable-running:1.0\n",
      "urn:ietf:params:netconf:capability:rollback-on-error:1.0\n",
      "urn:ietf:params:netconf:capability:candidate:1.0\n",
      "urn:ietf:params:netconf:capability:validate:1.1\n",
      "urn:ietf:params:netconf:capability:confirmed-commit:1.1\n",
      "urn:ietf:params:netconf:capability:notification:1.0\n",
      "urn:ietf:params:netconf:capability:interleave:1.0\n",
      "urn:ietf:params:netconf:capability:with-defaults:1.0\n",
      "http://cisco.com/ns/yang/cisco-nx-os-device\n",
      "urn:ietf:params:netconf:base:1.0\n",
      "urn:ietf:params:netconf:base:1.1\n",
      "urn:ietf:params:netconf:capability:writable-running:1.0\n",
      "urn:ietf:params:netconf:capability:rollback-on-error:1.0\n",
      "urn:ietf:params:netconf:capability:candidate:1.0\n",
      "urn:ietf:params:netconf:capability:validate:1.1\n",
      "urn:ietf:params:netconf:capability:confirmed-commit:1.1\n",
      "urn:ietf:params:netconf:capability:notification:1.0\n",
      "urn:ietf:params:netconf:capability:interleave:1.0\n",
      "urn:ietf:params:netconf:capability:with-defaults:1.0\n",
      "http://cisco.com/ns/yang/cisco-nx-os-device\n",
      "urn:ietf:params:netconf:base:1.0\n",
      "urn:ietf:params:netconf:base:1.1\n",
      "urn:ietf:params:netconf:capability:writable-running:1.0\n",
      "urn:ietf:params:netconf:capability:rollback-on-error:1.0\n",
      "urn:ietf:params:netconf:capability:candidate:1.0\n",
      "urn:ietf:params:netconf:capability:validate:1.1\n",
      "urn:ietf:params:netconf:capability:confirmed-commit:1.1\n",
      "urn:ietf:params:netconf:capability:notification:1.0\n",
      "urn:ietf:params:netconf:capability:interleave:1.0\n",
      "urn:ietf:params:netconf:capability:with-defaults:1.0\n",
      "http://cisco.com/ns/yang/cisco-nx-os-device\n",
      "urn:ietf:params:netconf:base:1.0\n",
      "urn:ietf:params:netconf:base:1.1\n",
      "urn:ietf:params:netconf:capability:writable-running:1.0\n",
      "urn:ietf:params:netconf:capability:rollback-on-error:1.0\n",
      "urn:ietf:params:netconf:capability:candidate:1.0\n",
      "urn:ietf:params:netconf:capability:validate:1.1\n",
      "urn:ietf:params:netconf:capability:confirmed-commit:1.1\n",
      "urn:ietf:params:netconf:capability:notification:1.0\n",
      "urn:ietf:params:netconf:capability:interleave:1.0\n",
      "urn:ietf:params:netconf:capability:with-defaults:1.0\n",
      "http://cisco.com/ns/yang/cisco-nx-os-device\n",
      "urn:ietf:params:netconf:base:1.0\n",
      "urn:ietf:params:netconf:base:1.1\n",
      "urn:ietf:params:netconf:capability:writable-running:1.0\n",
      "urn:ietf:params:netconf:capability:rollback-on-error:1.0\n",
      "urn:ietf:params:netconf:capability:candidate:1.0\n",
      "urn:ietf:params:netconf:capability:validate:1.1\n",
      "urn:ietf:params:netconf:capability:confirmed-commit:1.1\n",
      "urn:ietf:params:netconf:capability:notification:1.0\n",
      "urn:ietf:params:netconf:capability:interleave:1.0\n",
      "urn:ietf:params:netconf:capability:with-defaults:1.0\n",
      "http://cisco.com/ns/yang/cisco-nx-os-device\n",
      "urn:ietf:params:netconf:base:1.0\n",
      "urn:ietf:params:netconf:base:1.1\n",
      "urn:ietf:params:netconf:capability:writable-running:1.0\n",
      "urn:ietf:params:netconf:capability:rollback-on-error:1.0\n",
      "urn:ietf:params:netconf:capability:candidate:1.0\n",
      "urn:ietf:params:netconf:capability:validate:1.1\n",
      "urn:ietf:params:netconf:capability:confirmed-commit:1.1\n",
      "urn:ietf:params:netconf:capability:notification:1.0\n",
      "urn:ietf:params:netconf:capability:interleave:1.0\n",
      "urn:ietf:params:netconf:capability:with-defaults:1.0\n",
      "http://cisco.com/ns/yang/cisco-nx-os-device\n",
      "urn:ietf:params:netconf:base:1.0\n",
      "urn:ietf:params:netconf:base:1.1\n",
      "urn:ietf:params:netconf:capability:writable-running:1.0\n",
      "urn:ietf:params:netconf:capability:rollback-on-error:1.0\n",
      "urn:ietf:params:netconf:capability:candidate:1.0\n",
      "urn:ietf:params:netconf:capability:validate:1.1\n",
      "urn:ietf:params:netconf:capability:confirmed-commit:1.1\n",
      "urn:ietf:params:netconf:capability:notification:1.0\n",
      "urn:ietf:params:netconf:capability:interleave:1.0\n",
      "urn:ietf:params:netconf:capability:with-defaults:1.0\n",
      "http://cisco.com/ns/yang/cisco-nx-os-device\n"
     ]
    }
   ],
   "source": [
    "with manager.connect(**NXOS_netconf_info) as device:\n",
    "    for cap in device.server_capabilities:\n",
    "        for capability in device.server_capabilities:\n",
    "            print(capability.split('?')[0]) "
   ]
  },
  {
   "cell_type": "markdown",
   "metadata": {},
   "source": [
    "## 获取设备序列号"
   ]
  },
  {
   "cell_type": "code",
   "execution_count": 4,
   "metadata": {},
   "outputs": [],
   "source": [
    "serial_filter = \"\"\"\n",
    " <System xmlns=\"http://cisco.com/ns/yang/cisco-nx-os-device\">\n",
    "   <serial/>\n",
    " </System>\n",
    " \"\"\""
   ]
  },
  {
   "cell_type": "code",
   "execution_count": 5,
   "metadata": {},
   "outputs": [],
   "source": [
    "with manager.connect(**NXOS_netconf_info) as device:\n",
    "    netconf_response = device.get(('subtree', serial_filter))"
   ]
  },
  {
   "cell_type": "code",
   "execution_count": 6,
   "metadata": {},
   "outputs": [
    {
     "data": {
      "text/plain": [
       "<?xml version=\"1.0\" encoding=\"UTF-8\"?>\n",
       "<rpc-reply xmlns=\"urn:ietf:params:xml:ns:netconf:base:1.0\" message-id=\"urn:uuid:201622a9-9afc-4e8a-baaa-a179af2ebdfe\">\n",
       "    <data>\n",
       "        <System xmlns=\"http://cisco.com/ns/yang/cisco-nx-os-device\">\n",
       "            <serial>9LR0TGZ2MHQ</serial>\n",
       "        </System>\n",
       "    </data>\n",
       "</rpc-reply>"
      ]
     },
     "execution_count": 6,
     "metadata": {},
     "output_type": "execute_result"
    }
   ],
   "source": [
    "netconf_response"
   ]
  },
  {
   "cell_type": "code",
   "execution_count": 7,
   "metadata": {},
   "outputs": [
    {
     "data": {
      "text/plain": [
       "'9LR0TGZ2MHQ'"
      ]
     },
     "execution_count": 7,
     "metadata": {},
     "output_type": "execute_result"
    }
   ],
   "source": [
    "Serial = xmltodict.parse(netconf_response.xml)['rpc-reply']['data']['System']['serial']\n",
    "Serial"
   ]
  },
  {
   "cell_type": "markdown",
   "metadata": {},
   "source": [
    "## 添加环回口"
   ]
  },
  {
   "cell_type": "code",
   "execution_count": 22,
   "metadata": {},
   "outputs": [],
   "source": [
    "loopback_info = {\"id\": \"99\", \"ip\": \"10.99.99.1/24\"}"
   ]
  },
  {
   "cell_type": "code",
   "execution_count": 12,
   "metadata": {},
   "outputs": [],
   "source": [
    "loopback_add = \"\"\"<config>\n",
    "<System xmlns=\"http://cisco.com/ns/yang/cisco-nx-os-device\">\n",
    "    <intf-items>\n",
    "        <lb-items>\n",
    "            <LbRtdIf-list>\n",
    "                <id>lo{id}</id>\n",
    "                <adminSt>up</adminSt>\n",
    "                <descr>Full intf config via NETCONF</descr>\n",
    "            </LbRtdIf-list>\n",
    "        </lb-items>\n",
    "    </intf-items>\n",
    "    <ipv4-items>\n",
    "        <inst-items>\n",
    "            <dom-items>\n",
    "                <Dom-list>\n",
    "                    <name>default</name>\n",
    "                    <if-items>\n",
    "                        <If-list>\n",
    "                            <id>lo{id}</id>\n",
    "                            <addr-items>\n",
    "                                <Addr-list>\n",
    "                                    <addr>{ip}</addr>\n",
    "                                </Addr-list>\n",
    "                            </addr-items>\n",
    "                        </If-list>\n",
    "                    </if-items>\n",
    "                </Dom-list>\n",
    "            </dom-items>\n",
    "        </inst-items>\n",
    "    </ipv4-items>\n",
    "</System>\n",
    "</config>\"\"\".format(id = loopback_info[\"id\"], ip = loopback_info[\"ip\"])"
   ]
  },
  {
   "cell_type": "code",
   "execution_count": 13,
   "metadata": {
    "scrolled": true
   },
   "outputs": [
    {
     "name": "stdout",
     "output_type": "stream",
     "text": [
      "<?xml version=\"1.0\" encoding=\"UTF-8\"?>\n",
      "<rpc-reply xmlns=\"urn:ietf:params:xml:ns:netconf:base:1.0\" message-id=\"urn:uuid:b4e02349-2b12-4410-8e2f-7f07ba78b00d\">\n",
      "    <ok/>\n",
      "</rpc-reply>\n",
      "\n"
     ]
    }
   ],
   "source": [
    "with manager.connect(**NXOS_netconf_info) as device:\n",
    "    print(device.edit_config(target='running', config=loopback_add))"
   ]
  },
  {
   "cell_type": "markdown",
   "metadata": {},
   "source": [
    "## 查询环回口"
   ]
  },
  {
   "cell_type": "code",
   "execution_count": 14,
   "metadata": {},
   "outputs": [],
   "source": [
    "loopback_filter = \"\"\"\n",
    "<System xmlns=\"http://cisco.com/ns/yang/cisco-nx-os-device\">\n",
    "    <intf-items>\n",
    "        <lb-items/>\n",
    "    </intf-items>\n",
    "</System>\n",
    "\"\"\"\n",
    "ip_interface_filter = \"\"\"\n",
    "<System xmlns=\"http://cisco.com/ns/yang/cisco-nx-os-device\">\n",
    "<ipv4-items>\n",
    "    <inst-items>\n",
    "        <dom-items>\n",
    "            <Dom-list>\n",
    "                <name>default</name>\n",
    "                <if-items>\n",
    "                    <If-list/>\n",
    "                </if-items>\n",
    "            </Dom-list>\n",
    "        </dom-items>\n",
    "    </inst-items>\n",
    "</ipv4-items>\n",
    "</System>\n",
    "\"\"\""
   ]
  },
  {
   "cell_type": "code",
   "execution_count": 15,
   "metadata": {},
   "outputs": [],
   "source": [
    "with manager.connect(**NXOS_netconf_info) as device:\n",
    "    loopback_response = device.get(('subtree', loopback_filter))\n",
    "    ip_interface_response = device.get(('subtree', ip_interface_filter))"
   ]
  },
  {
   "cell_type": "code",
   "execution_count": 16,
   "metadata": {},
   "outputs": [
    {
     "data": {
      "text/plain": [
       "OrderedDict([('id', 'lo99'),\n",
       "             ('adminSt', 'up'),\n",
       "             ('descr', 'Full intf config via NETCONF'),\n",
       "             ('lbrtdif-items',\n",
       "              OrderedDict([('currErrIndex', '4294967295'),\n",
       "                           ('ifIndex', '335544419'),\n",
       "                           ('iod', '5'),\n",
       "                           ('lastErrors', '0,0,0,0'),\n",
       "                           ('operBitset', None),\n",
       "                           ('operDescr', 'Full intf config via NETCONF'),\n",
       "                           ('operMtu', '1500'),\n",
       "                           ('operSt', 'up'),\n",
       "                           ('operStQual', 'none')])),\n",
       "             ('linkLog', 'default'),\n",
       "             ('rtvrfMbr-items',\n",
       "              OrderedDict([('tDn',\n",
       "                            \"/System/inst-items/Inst-list[name='default']\")]))])"
      ]
     },
     "execution_count": 16,
     "metadata": {},
     "output_type": "execute_result"
    }
   ],
   "source": [
    "loop_back_data = xmltodict.parse(loopback_response.xml)['rpc-reply']['data']['System'][\"intf-items\"][\"lb-items\"][\"LbRtdIf-list\"]\n",
    "loop_back_data"
   ]
  },
  {
   "cell_type": "code",
   "execution_count": 20,
   "metadata": {},
   "outputs": [
    {
     "name": "stdout",
     "output_type": "stream",
     "text": [
      "环回接口lo99状态为up\n"
     ]
    }
   ],
   "source": [
    "print(f\"环回接口{loop_back_data['id']}状态为{loop_back_data['adminSt']}\")"
   ]
  },
  {
   "cell_type": "code",
   "execution_count": 19,
   "metadata": {},
   "outputs": [
    {
     "data": {
      "text/plain": [
       "OrderedDict([('id', 'lo99'),\n",
       "             ('addr-items',\n",
       "              OrderedDict([('Addr-list',\n",
       "                            OrderedDict([('addr', '10.99.99.1/24'),\n",
       "                                         ('operSt', 'up'),\n",
       "                                         ('operStQual', 'unspecified'),\n",
       "                                         ('pref', '0'),\n",
       "                                         ('tag', '0'),\n",
       "                                         ('type', 'primary')]))])),\n",
       "             ('directedBroadcast', 'disabled'),\n",
       "             ('dropGlean', 'disabled'),\n",
       "             ('forward', 'disabled'),\n",
       "             ('operSt', 'up'),\n",
       "             ('operStQual', 'unspecified'),\n",
       "             ('urpf', 'disabled')])"
      ]
     },
     "execution_count": 19,
     "metadata": {},
     "output_type": "execute_result"
    }
   ],
   "source": [
    "ip_if_data = xmltodict.parse(ip_interface_response.xml)['rpc-reply']['data']['System'][\"ipv4-items\"][\"inst-items\"][\"dom-items\"][\"Dom-list\"][\"if-items\"][\"If-list\"]\n",
    "ip_if_data"
   ]
  },
  {
   "cell_type": "code",
   "execution_count": 21,
   "metadata": {},
   "outputs": [
    {
     "name": "stdout",
     "output_type": "stream",
     "text": [
      "环回接口lo99配置了IP地址：10.99.99.1/24\n"
     ]
    }
   ],
   "source": [
    "print(f\"环回接口{ip_if_data['id']}配置了IP地址：{ip_if_data['addr-items']['Addr-list']['addr']}\")"
   ]
  },
  {
   "cell_type": "markdown",
   "metadata": {},
   "source": [
    "## 删除环回口"
   ]
  },
  {
   "cell_type": "code",
   "execution_count": 23,
   "metadata": {},
   "outputs": [],
   "source": [
    "loopback_remove = \"\"\"\n",
    "<config>\n",
    "    <System xmlns=\"http://cisco.com/ns/yang/cisco-nx-os-device\">\n",
    "        <intf-items>\n",
    "            <lb-items>\n",
    "                <LbRtdIf-list operation=\"remove\">\n",
    "                    <id>lo{id}</id>\n",
    "                </LbRtdIf-list>\n",
    "            </lb-items>\n",
    "        </intf-items>\n",
    "    </System>\n",
    "</config>\"\"\".format(id = loopback_info[\"id\"], ip = loopback_info[\"ip\"])"
   ]
  },
  {
   "cell_type": "code",
   "execution_count": 24,
   "metadata": {
    "scrolled": true
   },
   "outputs": [
    {
     "name": "stdout",
     "output_type": "stream",
     "text": [
      "<?xml version=\"1.0\" encoding=\"UTF-8\"?>\n",
      "<rpc-reply xmlns=\"urn:ietf:params:xml:ns:netconf:base:1.0\" message-id=\"urn:uuid:d5a09e90-2b6c-4c1a-a196-831dd737e08c\">\n",
      "    <ok/>\n",
      "</rpc-reply>\n",
      "\n"
     ]
    }
   ],
   "source": [
    "with manager.connect(**NXOS_netconf_info) as device:\n",
    "    print(device.edit_config(target='running', config=loopback_remove))"
   ]
  },
  {
   "cell_type": "markdown",
   "metadata": {},
   "source": [
    "## 再次查看环回口"
   ]
  },
  {
   "cell_type": "code",
   "execution_count": 25,
   "metadata": {},
   "outputs": [],
   "source": [
    "with manager.connect(**NXOS_netconf_info) as device:\n",
    "    loopback_response = device.get(('subtree', loopback_filter))\n",
    "    ip_interface_response = device.get(('subtree', ip_interface_filter))"
   ]
  },
  {
   "cell_type": "code",
   "execution_count": 26,
   "metadata": {},
   "outputs": [
    {
     "data": {
      "text/plain": [
       "<?xml version=\"1.0\" encoding=\"UTF-8\"?>\n",
       "<rpc-reply xmlns=\"urn:ietf:params:xml:ns:netconf:base:1.0\" message-id=\"urn:uuid:0180cf9c-aad3-49cf-adcb-8cdc9641ae33\">\n",
       "    <data>\n",
       "        <System xmlns=\"http://cisco.com/ns/yang/cisco-nx-os-device\"/>\n",
       "    </data>\n",
       "</rpc-reply>"
      ]
     },
     "execution_count": 26,
     "metadata": {},
     "output_type": "execute_result"
    }
   ],
   "source": [
    "loopback_response"
   ]
  },
  {
   "cell_type": "code",
   "execution_count": 27,
   "metadata": {},
   "outputs": [
    {
     "data": {
      "text/plain": [
       "<?xml version=\"1.0\" encoding=\"UTF-8\"?>\n",
       "<rpc-reply xmlns=\"urn:ietf:params:xml:ns:netconf:base:1.0\" message-id=\"urn:uuid:51a86cee-89e8-4e41-8201-b0995e57b0dd\">\n",
       "    <data>\n",
       "        <System xmlns=\"http://cisco.com/ns/yang/cisco-nx-os-device\">\n",
       "            <ipv4-items>\n",
       "                <inst-items>\n",
       "                    <dom-items>\n",
       "                        <Dom-list>\n",
       "                            <name>default</name>\n",
       "                        </Dom-list>\n",
       "                    </dom-items>\n",
       "                </inst-items>\n",
       "            </ipv4-items>\n",
       "        </System>\n",
       "    </data>\n",
       "</rpc-reply>"
      ]
     },
     "execution_count": 27,
     "metadata": {},
     "output_type": "execute_result"
    }
   ],
   "source": [
    "ip_interface_response"
   ]
  }
 ],
 "metadata": {
  "kernelspec": {
   "display_name": "Python 3",
   "language": "python",
   "name": "python3"
  },
  "language_info": {
   "codemirror_mode": {
    "name": "ipython",
    "version": 3
   },
   "file_extension": ".py",
   "mimetype": "text/x-python",
   "name": "python",
   "nbconvert_exporter": "python",
   "pygments_lexer": "ipython3",
   "version": "3.7.0"
  }
 },
 "nbformat": 4,
 "nbformat_minor": 2
}
